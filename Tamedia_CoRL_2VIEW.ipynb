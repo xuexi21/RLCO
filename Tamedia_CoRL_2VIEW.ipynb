{
 "cells": [
  {
   "cell_type": "code",
   "execution_count": 2,
   "metadata": {},
   "outputs": [],
   "source": [
    "\n",
    "# Pytorch - for build and train network\n",
    "import torch\n",
    "import torch.nn as nn\n",
    "import torch.nn.functional as F\n",
    "import torch.optim as optim\n",
    "\n",
    "# for the classifiers also the cluster.\n",
    "from sklearn.cluster import KMeans\n",
    "from sklearn.decomposition import TruncatedSVD\n",
    "from sklearn.feature_extraction.text import TfidfVectorizer\n",
    "from sklearn.pipeline import make_pipeline\n",
    "from sklearn.preprocessing import Normalizer\n",
    "\n",
    "from sklearn.neighbors import KNeighborsClassifier\n",
    "from sklearn.model_selection import train_test_split\n",
    "from sklearn.svm import SVC\n",
    "\n",
    "# for the classification evaluation.\n",
    "from sklearn import metrics\n",
    "from sklearn.metrics import f1_score\n",
    "from sklearn.metrics import accuracy_score\n",
    "\n",
    "# handel the imbalanced dataset us  SMOTE method\n",
    "from imblearn.over_sampling import SMOTE\n",
    "from collections import Counter\n",
    "\n",
    "from time import time\n",
    "\n",
    "import numpy as np\n",
    "import pandas as pd\n",
    "import matplotlib.pyplot as plt\n",
    "import seaborn as sns\n",
    "\n",
    "from collections import defaultdict\n",
    "from tqdm.notebook import tqdm\n",
    "\n",
    "\n",
    "from transformers import pipeline\n",
    "\n",
    "import pickle\n",
    "import math\n",
    "\n",
    "import warnings\n",
    "warnings.filterwarnings('ignore')\n",
    "pd.set_option('display.max_rows', None)\n",
    "pd.set_option('display.max_columns', None)\n",
    "\n",
    "import re\n",
    "\n",
    "import os\n",
    "cwd = os.getcwd()"
   ]
  },
  {
   "cell_type": "markdown",
   "metadata": {},
   "source": [
    "## Data preproces - clean / vectorize / banlance the train label\n",
    "\n",
    "#### clean the data"
   ]
  },
  {
   "cell_type": "code",
   "execution_count": 3,
   "metadata": {},
   "outputs": [
    {
     "data": {
      "text/html": [
       "<div>\n",
       "<style scoped>\n",
       "    .dataframe tbody tr th:only-of-type {\n",
       "        vertical-align: middle;\n",
       "    }\n",
       "\n",
       "    .dataframe tbody tr th {\n",
       "        vertical-align: top;\n",
       "    }\n",
       "\n",
       "    .dataframe thead th {\n",
       "        text-align: right;\n",
       "    }\n",
       "</style>\n",
       "<table border=\"1\" class=\"dataframe\">\n",
       "  <thead>\n",
       "    <tr style=\"text-align: right;\">\n",
       "      <th></th>\n",
       "      <th>motive_final</th>\n",
       "      <th>textAno4</th>\n",
       "    </tr>\n",
       "    <tr>\n",
       "      <th>ID</th>\n",
       "      <th></th>\n",
       "      <th></th>\n",
       "    </tr>\n",
       "  </thead>\n",
       "  <tbody>\n",
       "    <tr>\n",
       "      <th>1</th>\n",
       "      <td>Ratsuche (0.5), Vertrauen (0.5)</td>\n",
       "      <td>SPEAKER_A : Ich glaube , bei der Berner Zeitun...</td>\n",
       "    </tr>\n",
       "    <tr>\n",
       "      <th>2</th>\n",
       "      <td>Keine</td>\n",
       "      <td>SPEAKER_B : Berner Zeitung , Aboservice , {nam...</td>\n",
       "    </tr>\n",
       "    <tr>\n",
       "      <th>3</th>\n",
       "      <td>Preisoptimierung (1)</td>\n",
       "      <td>SPEAKER_A : Finanz und Wirtschaft . Mein Name ...</td>\n",
       "    </tr>\n",
       "    <tr>\n",
       "      <th>4</th>\n",
       "      <td>Vertrauen (1)</td>\n",
       "      <td>SPEAKER_A : Schweizer Familie , Aboservice , {...</td>\n",
       "    </tr>\n",
       "    <tr>\n",
       "      <th>5</th>\n",
       "      <td>Vertrauen (0.5), Abgabe (0.5)</td>\n",
       "      <td>SPEAKER_A : Guten Tag , hier ist {name} von de...</td>\n",
       "    </tr>\n",
       "  </tbody>\n",
       "</table>\n",
       "</div>"
      ],
      "text/plain": [
       "                       motive_final  \\\n",
       "ID                                    \n",
       "1   Ratsuche (0.5), Vertrauen (0.5)   \n",
       "2                             Keine   \n",
       "3              Preisoptimierung (1)   \n",
       "4                     Vertrauen (1)   \n",
       "5     Vertrauen (0.5), Abgabe (0.5)   \n",
       "\n",
       "                                             textAno4  \n",
       "ID                                                     \n",
       "1   SPEAKER_A : Ich glaube , bei der Berner Zeitun...  \n",
       "2   SPEAKER_B : Berner Zeitung , Aboservice , {nam...  \n",
       "3   SPEAKER_A : Finanz und Wirtschaft . Mein Name ...  \n",
       "4   SPEAKER_A : Schweizer Familie , Aboservice , {...  \n",
       "5   SPEAKER_A : Guten Tag , hier ist {name} von de...  "
      ]
     },
     "execution_count": 3,
     "metadata": {},
     "output_type": "execute_result"
    }
   ],
   "source": [
    "# READ THE DATA\n",
    "\n",
    "df = pd.read_excel(cwd+\"/tamedia 1000 transcripts to label 2024-06-08.xlsx\", index_col=0)\n",
    "df.head()"
   ]
  },
  {
   "cell_type": "code",
   "execution_count": 4,
   "metadata": {},
   "outputs": [
    {
     "name": "stdout",
     "output_type": "stream",
     "text": [
      "['Ratsuche' 'Vertrauen' 'Keine' 'Preisoptimierung' 'Abgabe' 'Pragmatismus'\n",
      " 'Selbermachen' 'Vermeidung' '0']\n",
      "(1081, 2)\n"
     ]
    }
   ],
   "source": [
    "# Define a function to split, expand motive types, and remove probabilities\n",
    "def split_and_expand_motive_types(row):\n",
    "    text = str(row['motive_final'])  # Ensure motive_final is treated as a string\n",
    "    if text == 'Keine' or text.lower() == 'nan':\n",
    "        return [row]  # Return the row unchanged if the text is exactly '0' or 'NaN'\n",
    "\n",
    "    matches = re.findall(r'(\\w+)\\s*\\(\\d*\\.?\\d*\\)', text)  # Extract just the motive name, ignoring the probability\n",
    "    if matches:\n",
    "        # Generate a new row for each motive type without the probability\n",
    "        expanded_rows = []\n",
    "        for match in matches:\n",
    "            new_row = row.copy()\n",
    "            new_row['motive_final'] = match  # Set the motive name without the probability\n",
    "            expanded_rows.append(new_row)\n",
    "        return expanded_rows\n",
    "    else:\n",
    "        return [row]  # Return the original row if no matches found\n",
    "\n",
    "# Apply the function and expand the DataFrame\n",
    "expanded_df = pd.DataFrame([expanded_row for index, row in df.iterrows() for expanded_row in split_and_expand_motive_types(row)])\n",
    "\n",
    "\n",
    "######\n",
    "'''\n",
    "['Ratsuche' 'Vertrauen' 'Keine' 'Preisoptimierung' 'Abgabe' 'Pragmatismus'\n",
    " 'Selbermachen' 'Vermeidung' '0.5 Selbermachen, 0.5 Keine' 'Keine '\n",
    " 'Abgabe  ' 'Preisoptimierer' 'Selbermachen 0.5, Ratsuche 0.5' nan]\n",
    "(1079, 2)\n",
    "\n",
    "'''\n",
    "df = expanded_df\n",
    "df['motive_final'] = df['motive_final'].fillna('0')\n",
    "df['motive_final'] = df['motive_final'].replace('Keine ', 'Keine')\n",
    "df['motive_final'] = df['motive_final'].replace('Abgabe  ', 'Abgabe')\n",
    "df['motive_final'] = df['motive_final'].replace('Preisoptimierer', 'Preisoptimierung')\n",
    "\n",
    "\n",
    "'''\n",
    "array(['Ratsuche', 'Vertrauen', 'Keine', 'Preisoptimierung', 'Abgabe',\n",
    "       'Pragmatismus', 'Selbermachen', 'Vermeidung',\n",
    "       '0.5 Selbermachen, 0.5 Keine', 'Selbermachen 0.5, Ratsuche 0.5',\n",
    "       '0'], dtype=object)\n",
    "\n",
    "'''\n",
    "# Define a function to split, expand motive types, and handle specific cases\n",
    "def split_and_expand_motive_types2(row):\n",
    "    text = str(row['motive_final'])  # Ensure motive_final is treated as a string\n",
    "    if text == '0' or text.lower() == 'nan':\n",
    "        return [row]  # Return the row unchanged if the text is exactly '0' or 'NaN'\n",
    "\n",
    "    expanded_rows = []\n",
    "\n",
    "    # Handle the specific case \"Selbermachen 0.5, Ratsuche 0.5\"\n",
    "    if text == 'Selbermachen 0.5, Ratsuche 0.5':\n",
    "        motives = ['Selbermachen', 'Ratsuche']\n",
    "    # Handle the specific case \"0.5 Selbermachen, 0.5 n/a\"\n",
    "    elif text == '0.5 Selbermachen, 0.5 Keine':\n",
    "        motives = ['Selbermachen', 'Keine']\n",
    "    else:\n",
    "        # Generic handling: Extract motive names without probabilities\n",
    "        motives = re.findall(r'(\\w+)\\s*\\d*\\.?\\d*', text)\n",
    "\n",
    "    # Generate a new row for each motive name without the probability\n",
    "    for motive in motives:\n",
    "        new_row = row.copy()\n",
    "        new_row['motive_final'] = motive  # Set the motive name without the probability\n",
    "        expanded_rows.append(new_row)\n",
    "\n",
    "    return expanded_rows\n",
    "\n",
    "# Apply the function and expand the DataFrame\n",
    "expanded_df = pd.DataFrame([expanded_row for index, row in df.iterrows() for expanded_row in split_and_expand_motive_types2(row)])\n",
    "print(expanded_df.motive_final.unique())\n",
    "print(expanded_df.shape)\n",
    "expanded_df.head()\n",
    "\n",
    "''' \n",
    "['Ratsuche' 'Vertrauen' 'Keine' 'Preisoptimierung' 'Abgabe' 'Pragmatismus'\n",
    " 'Selbermachen' 'Vermeidung' '0']\n",
    "(1081, 2)\n",
    "\n",
    "'''\n",
    "df = expanded_df\n"
   ]
  },
  {
   "cell_type": "code",
   "execution_count": 6,
   "metadata": {},
   "outputs": [
    {
     "name": "stdout",
     "output_type": "stream",
     "text": [
      "['Ratsuche' 'Vertrauen' 'Keine' 'Preisoptimierung' 'Abgabe' 'Pragmatismus'\n",
      " 'Selbermachen' 'Vermeidung' '0']\n",
      "              label                                               text\n",
      "1          Ratsuche  SPRECHER_A : Ich glaube , bei der Berner Zeitu...\n",
      "1         Vertrauen  SPRECHER_A : Ich glaube , bei der Berner Zeitu...\n",
      "2             Keine  SPRECHER_B : Berner Zeitung , Aboservice , {Na...\n",
      "3  Preisoptimierung  SPRECHER_A : Finanz und Wirtschaft . Mein Name...\n",
      "4         Vertrauen  SPRECHER_A : Schweizer Familie , Aboservice , ...\n",
      "(1081, 2)\n",
      "              label                                               text\n",
      "1          Ratsuche  SPRECHER_A : Ich glaube , bei der Berner Zeitu...\n",
      "2             Keine  SPRECHER_B : Berner Zeitung , Aboservice , {Na...\n",
      "3  Preisoptimierung  SPRECHER_A : Finanz und Wirtschaft . Mein Name...\n",
      "4         Vertrauen  SPRECHER_A : Schweizer Familie , Aboservice , ...\n",
      "5         Vertrauen  SPRECHER_A : Guten Tag , hier ist {Name} von d...\n",
      "(999, 2)\n"
     ]
    }
   ],
   "source": [
    "# Replace '\\n' with ' ' in the 'textAno4' column\n",
    "df['textAno4'] = df['textAno4'].str.replace('\\n', ' ')\n",
    "\n",
    "# Extract unique placeholders\n",
    "unique_placeholders = set(re.findall(r'\\{([^}]+)\\}', ' '.join(df['textAno4'])))\n",
    "# print(unique_placeholders)\n",
    "'''\n",
    "{\n",
    "' e-mail ', ' number ', ' town ',\n",
    " ' street { street name ', ' street name ', \n",
    " ' address ', 'name', ' { e-mail '\n",
    " }\n",
    "'''\n",
    "# Extract unique speaker identifiers\n",
    "unique_speakers = set(re.findall(r'([A-Z_]+)\\s*:', ' '.join(df['textAno4'])))\n",
    "# print(unique_speakers)\n",
    "'''\n",
    "{\n",
    "'SPEAKER_A', 'SPEAKER_D', \n",
    "'SPEAKER_C', 'SPEAKER_UNKNOWN', \n",
    "'SPEAKER_B'\n",
    "}\n",
    "'''\n",
    "\n",
    "\n",
    "translations = {}\n",
    "\n",
    "# Translate each placeholder\n",
    "translations[' street { street name '] = 'Strassenname'\n",
    "translations[' street name '] = 'Strassenname'\n",
    "translations[' number '] = 'Nummer'\n",
    "translations[' address '] = 'Adresse'\n",
    "translations[' { e-mail '] = 'E-Mail'\n",
    "translations[' e-mail '] = 'E-Mail'\n",
    "translations['name'] = 'Name'\n",
    "translations[' town '] = 'Stadt'\n",
    "\n",
    "# Translate each speaker\n",
    "translations['SPEAKER_A'] = 'SPRECHER_A'\n",
    "translations['SPEAKER_B'] = 'SPRECHER_B'\n",
    "translations['SPEAKER_C'] = 'SPRECHER_C'\n",
    "translations['SPEAKER_D'] = 'SPRECHER_D'\n",
    "translations['SPEAKER_UNKNOWN'] = 'SPRECHER_UNBEKANNT'\n",
    "\n",
    "# Replace placeholders in DataFrame\n",
    "for eng_placeholder, ger_translation in translations.items():\n",
    "    df['textAno4'] = df['textAno4'].str.replace(eng_placeholder, ger_translation)\n",
    "\n",
    "# Replace speakers in DataFrame\n",
    "for eng_speaker, ger_speaker in translations.items():\n",
    "    df['textAno4'] = df['textAno4'].str.replace(eng_speaker, ger_speaker)\n",
    "\n",
    "# print (set(re.findall(r'\\{([^}]+)\\}', ' '.join(df['textAno4']))))\n",
    "# print (set(re.findall(r'([A-Z_]+)\\s*:', ' '.join(df['textAno4']))))\n",
    "# df.head()\n",
    "print(df.motive_final.unique())\n",
    "\n",
    "#rename the columns name\n",
    "df.rename(columns={'textAno4': 'text','motive_final':'label'}, inplace = True)\n",
    "print(df.head())\n",
    "print(df.shape)\n",
    "\n",
    "df = df.drop_duplicates(subset='text', keep=\"first\")\n",
    "print(df.head())\n",
    "print(df.shape)"
   ]
  },
  {
   "cell_type": "code",
   "execution_count": 7,
   "metadata": {},
   "outputs": [
    {
     "data": {
      "image/png": "[encoded data removed]",
      "text/plain": [
       "<Figure size 1200x300 with 1 Axes>"
      ]
     },
     "metadata": {},
     "output_type": "display_data"
    },
    {
     "data": {
      "text/plain": [
       "Counter({'0': 664,\n",
       "         'Keine': 133,\n",
       "         'Pragmatismus': 63,\n",
       "         'Selbermachen': 58,\n",
       "         'Vertrauen': 34,\n",
       "         'Ratsuche': 33,\n",
       "         'Preisoptimierung': 9,\n",
       "         'Abgabe': 5})"
      ]
     },
     "execution_count": 7,
     "metadata": {},
     "output_type": "execute_result"
    }
   ],
   "source": [
    "plt.figure(figsize=(12, 3))\n",
    "sns.countplot(x='label', data=df, palette='viridis')\n",
    "plt.title('Distribution of Motive Types')\n",
    "plt.xlabel('Motive Types')\n",
    "plt.ylabel('Count')\n",
    "plt.show()\n",
    "Counter(df.label)"
   ]
  },
  {
   "cell_type": "code",
   "execution_count": 8,
   "metadata": {},
   "outputs": [
    {
     "data": {
      "text/plain": [
       "Counter({'0': 664})"
      ]
     },
     "execution_count": 8,
     "metadata": {},
     "output_type": "execute_result"
    }
   ],
   "source": [
    "# remove the Vermeidung / Abgabe/Preisoptimierung class, it was too less for training.\n",
    "df = df[df['label'] != \"Abgabe\"]\n",
    "df = df[df['label'] != \"Preisoptimierung\"]\n",
    "df_l = df[df['label'] != \"0\"]\n",
    "df_ul = df[df['label'] == \"0\"]\n",
    "Counter(df_ul.label)"
   ]
  },
  {
   "cell_type": "markdown",
   "metadata": {},
   "source": [
    "#### Generate 2nd View"
   ]
  },
  {
   "cell_type": "code",
   "execution_count": 9,
   "metadata": {},
   "outputs": [],
   "source": [
    "# #  Load a summarization model pipeline\n",
    "# summarizer = pipeline(\"summarization\", model=\"facebook/bart-large-cnn\", device=0 if torch.cuda.is_available() else -1)\n",
    "\n",
    "# # Define a function to summarize a single document\n",
    "# def summarize_text(text, max_length=150, min_length=30):\n",
    "#     # Handle very short documents\n",
    "#     if len(text.split()) < 50:\n",
    "#         return \"Text too short to summarize meaningfully.\"\n",
    "#     try:\n",
    "#         # Generate summary\n",
    "#         summary = summarizer(text, max_length=max_length, min_length=min_length, do_sample=False)\n",
    "#         return summary[0]['summary_text']\n",
    "#     except Exception as e:\n",
    "#         return f\"Error during summarization: {e}\""
   ]
  },
  {
   "cell_type": "code",
   "execution_count": 10,
   "metadata": {},
   "outputs": [],
   "source": [
    "# # Summarize a few documents as examples\n",
    "# example_summaries = [summarize_text(doc) for doc in df.text]\n",
    "\n",
    "# # Print the original and summarized text\n",
    "# for i, (original, summary) in enumerate(zip(df.text, example_summaries)):\n",
    "#     print(f\"Original Text {i+1}:\\n{original[:500]}...\\n\")\n",
    "#     print(f\"Summary {i+1}:\\n{summary}\\n\")\n",
    "#     print(\"=\" * 50)\n",
    "\n",
    "\n",
    "# # # Print the original and summarized text\n",
    "# # for i in range(5):\n",
    "# #     print(f'original: {df.text[:5]}')\n",
    "# #     print(f'summary: {example_summaries[i]}')\n",
    "# #     print('XXXXXXX'*10)\n",
    "\n"
   ]
  },
  {
   "cell_type": "code",
   "execution_count": 11,
   "metadata": {},
   "outputs": [],
   "source": [
    "# df['text_2'] = example_summaries"
   ]
  },
  {
   "cell_type": "code",
   "execution_count": null,
   "metadata": {},
   "outputs": [],
   "source": [
    "# # Save the dataframe to a CSV file\n",
    "# df.to_csv('tamedia_2view.csv', sep=',', index=False, encoding='utf-8')"
   ]
  },
  {
   "cell_type": "code",
   "execution_count": 12,
   "metadata": {},
   "outputs": [
    {
     "name": "stdout",
     "output_type": "stream",
     "text": [
      "Collecting sentence-transformers\n",
      "  Using cached sentence_transformers-3.3.1-py3-none-any.whl.metadata (10 kB)\n",
      "Requirement already satisfied: transformers<5.0.0,>=4.41.0 in /Users/kai/miniconda3/envs/numpy1/lib/python3.12/site-packages (from sentence-transformers) (4.46.3)\n",
      "Requirement already satisfied: tqdm in /Users/kai/miniconda3/envs/numpy1/lib/python3.12/site-packages (from sentence-transformers) (4.67.1)\n",
      "Requirement already satisfied: torch>=1.11.0 in /Users/kai/miniconda3/envs/numpy1/lib/python3.12/site-packages (from sentence-transformers) (2.3.1)\n",
      "Requirement already satisfied: scikit-learn in /Users/kai/miniconda3/envs/numpy1/lib/python3.12/site-packages (from sentence-transformers) (1.5.2)\n",
      "Requirement already satisfied: scipy in /Users/kai/miniconda3/envs/numpy1/lib/python3.12/site-packages (from sentence-transformers) (1.14.1)\n",
      "Requirement already satisfied: huggingface-hub>=0.20.0 in /Users/kai/miniconda3/envs/numpy1/lib/python3.12/site-packages (from sentence-transformers) (0.24.6)\n",
      "Requirement already satisfied: Pillow in /Users/kai/miniconda3/envs/numpy1/lib/python3.12/site-packages (from sentence-transformers) (11.0.0)\n",
      "Requirement already satisfied: filelock in /Users/kai/miniconda3/envs/numpy1/lib/python3.12/site-packages (from huggingface-hub>=0.20.0->sentence-transformers) (3.13.1)\n",
      "Requirement already satisfied: fsspec>=2023.5.0 in /Users/kai/miniconda3/envs/numpy1/lib/python3.12/site-packages (from huggingface-hub>=0.20.0->sentence-transformers) (2024.6.1)\n",
      "Requirement already satisfied: packaging>=20.9 in /Users/kai/miniconda3/envs/numpy1/lib/python3.12/site-packages (from huggingface-hub>=0.20.0->sentence-transformers) (24.1)\n",
      "Requirement already satisfied: pyyaml>=5.1 in /Users/kai/miniconda3/envs/numpy1/lib/python3.12/site-packages (from huggingface-hub>=0.20.0->sentence-transformers) (6.0.2)\n",
      "Requirement already satisfied: requests in /Users/kai/miniconda3/envs/numpy1/lib/python3.12/site-packages (from huggingface-hub>=0.20.0->sentence-transformers) (2.32.3)\n",
      "Requirement already satisfied: typing-extensions>=3.7.4.3 in /Users/kai/miniconda3/envs/numpy1/lib/python3.12/site-packages (from huggingface-hub>=0.20.0->sentence-transformers) (4.11.0)\n",
      "Requirement already satisfied: sympy in /Users/kai/miniconda3/envs/numpy1/lib/python3.12/site-packages (from torch>=1.11.0->sentence-transformers) (1.13.2)\n",
      "Requirement already satisfied: networkx in /Users/kai/miniconda3/envs/numpy1/lib/python3.12/site-packages (from torch>=1.11.0->sentence-transformers) (3.3)\n",
      "Requirement already satisfied: jinja2 in /Users/kai/miniconda3/envs/numpy1/lib/python3.12/site-packages (from torch>=1.11.0->sentence-transformers) (3.1.4)\n",
      "Requirement already satisfied: numpy>=1.17 in /Users/kai/miniconda3/envs/numpy1/lib/python3.12/site-packages (from transformers<5.0.0,>=4.41.0->sentence-transformers) (1.26.4)\n",
      "Requirement already satisfied: regex!=2019.12.17 in /Users/kai/miniconda3/envs/numpy1/lib/python3.12/site-packages (from transformers<5.0.0,>=4.41.0->sentence-transformers) (2024.11.6)\n",
      "Requirement already satisfied: tokenizers<0.21,>=0.20 in /Users/kai/miniconda3/envs/numpy1/lib/python3.12/site-packages (from transformers<5.0.0,>=4.41.0->sentence-transformers) (0.20.1)\n",
      "Requirement already satisfied: safetensors>=0.4.1 in /Users/kai/miniconda3/envs/numpy1/lib/python3.12/site-packages (from transformers<5.0.0,>=4.41.0->sentence-transformers) (0.4.5)\n",
      "Requirement already satisfied: joblib>=1.2.0 in /Users/kai/miniconda3/envs/numpy1/lib/python3.12/site-packages (from scikit-learn->sentence-transformers) (1.4.2)\n",
      "Requirement already satisfied: threadpoolctl>=3.1.0 in /Users/kai/miniconda3/envs/numpy1/lib/python3.12/site-packages (from scikit-learn->sentence-transformers) (3.5.0)\n",
      "Requirement already satisfied: MarkupSafe>=2.0 in /Users/kai/miniconda3/envs/numpy1/lib/python3.12/site-packages (from jinja2->torch>=1.11.0->sentence-transformers) (2.1.3)\n",
      "Requirement already satisfied: charset-normalizer<4,>=2 in /Users/kai/miniconda3/envs/numpy1/lib/python3.12/site-packages (from requests->huggingface-hub>=0.20.0->sentence-transformers) (3.3.2)\n",
      "Requirement already satisfied: idna<4,>=2.5 in /Users/kai/miniconda3/envs/numpy1/lib/python3.12/site-packages (from requests->huggingface-hub>=0.20.0->sentence-transformers) (3.7)\n",
      "Requirement already satisfied: urllib3<3,>=1.21.1 in /Users/kai/miniconda3/envs/numpy1/lib/python3.12/site-packages (from requests->huggingface-hub>=0.20.0->sentence-transformers) (2.2.3)\n",
      "Requirement already satisfied: certifi>=2017.4.17 in /Users/kai/miniconda3/envs/numpy1/lib/python3.12/site-packages (from requests->huggingface-hub>=0.20.0->sentence-transformers) (2024.8.30)\n",
      "Requirement already satisfied: mpmath<1.4,>=1.1.0 in /Users/kai/miniconda3/envs/numpy1/lib/python3.12/site-packages (from sympy->torch>=1.11.0->sentence-transformers) (1.3.0)\n",
      "Using cached sentence_transformers-3.3.1-py3-none-any.whl (268 kB)\n",
      "Installing collected packages: sentence-transformers\n",
      "Successfully installed sentence-transformers-3.3.1\n",
      "Collecting bert-extractive-summarizer\n",
      "  Using cached bert_extractive_summarizer-0.10.1-py3-none-any.whl.metadata (15 kB)\n",
      "Requirement already satisfied: transformers in /Users/kai/miniconda3/envs/numpy1/lib/python3.12/site-packages (from bert-extractive-summarizer) (4.46.3)\n",
      "Requirement already satisfied: scikit-learn in /Users/kai/miniconda3/envs/numpy1/lib/python3.12/site-packages (from bert-extractive-summarizer) (1.5.2)\n",
      "Collecting spacy (from bert-extractive-summarizer)\n",
      "  Using cached spacy-3.8.2-cp312-cp312-macosx_11_0_arm64.whl.metadata (27 kB)\n",
      "Requirement already satisfied: numpy>=1.19.5 in /Users/kai/miniconda3/envs/numpy1/lib/python3.12/site-packages (from scikit-learn->bert-extractive-summarizer) (1.26.4)\n",
      "Requirement already satisfied: scipy>=1.6.0 in /Users/kai/miniconda3/envs/numpy1/lib/python3.12/site-packages (from scikit-learn->bert-extractive-summarizer) (1.14.1)\n",
      "Requirement already satisfied: joblib>=1.2.0 in /Users/kai/miniconda3/envs/numpy1/lib/python3.12/site-packages (from scikit-learn->bert-extractive-summarizer) (1.4.2)\n",
      "Requirement already satisfied: threadpoolctl>=3.1.0 in /Users/kai/miniconda3/envs/numpy1/lib/python3.12/site-packages (from scikit-learn->bert-extractive-summarizer) (3.5.0)\n",
      "Collecting spacy-legacy<3.1.0,>=3.0.11 (from spacy->bert-extractive-summarizer)\n",
      "  Using cached spacy_legacy-3.0.12-py2.py3-none-any.whl.metadata (2.8 kB)\n",
      "Collecting spacy-loggers<2.0.0,>=1.0.0 (from spacy->bert-extractive-summarizer)\n",
      "  Using cached spacy_loggers-1.0.5-py3-none-any.whl.metadata (23 kB)\n",
      "Collecting murmurhash<1.1.0,>=0.28.0 (from spacy->bert-extractive-summarizer)\n",
      "  Using cached murmurhash-1.0.11-cp312-cp312-macosx_11_0_arm64.whl.metadata (2.0 kB)\n",
      "Collecting cymem<2.1.0,>=2.0.2 (from spacy->bert-extractive-summarizer)\n",
      "  Using cached cymem-2.0.10-cp312-cp312-macosx_11_0_arm64.whl.metadata (8.4 kB)\n",
      "Collecting preshed<3.1.0,>=3.0.2 (from spacy->bert-extractive-summarizer)\n",
      "  Using cached preshed-3.0.9-cp312-cp312-macosx_11_0_arm64.whl.metadata (2.2 kB)\n",
      "Collecting thinc<8.4.0,>=8.3.0 (from spacy->bert-extractive-summarizer)\n",
      "  Using cached thinc-8.3.2-cp312-cp312-macosx_11_0_arm64.whl.metadata (15 kB)\n",
      "Collecting wasabi<1.2.0,>=0.9.1 (from spacy->bert-extractive-summarizer)\n",
      "  Using cached wasabi-1.1.3-py3-none-any.whl.metadata (28 kB)\n",
      "Collecting srsly<3.0.0,>=2.4.3 (from spacy->bert-extractive-summarizer)\n",
      "  Using cached srsly-2.4.8-cp312-cp312-macosx_11_0_arm64.whl.metadata (20 kB)\n",
      "Collecting catalogue<2.1.0,>=2.0.6 (from spacy->bert-extractive-summarizer)\n",
      "  Using cached catalogue-2.0.10-py3-none-any.whl.metadata (14 kB)\n",
      "Collecting weasel<0.5.0,>=0.1.0 (from spacy->bert-extractive-summarizer)\n",
      "  Using cached weasel-0.4.1-py3-none-any.whl.metadata (4.6 kB)\n",
      "Collecting typer<1.0.0,>=0.3.0 (from spacy->bert-extractive-summarizer)\n",
      "  Downloading typer-0.15.0-py3-none-any.whl.metadata (15 kB)\n",
      "Requirement already satisfied: tqdm<5.0.0,>=4.38.0 in /Users/kai/miniconda3/envs/numpy1/lib/python3.12/site-packages (from spacy->bert-extractive-summarizer) (4.67.1)\n",
      "Requirement already satisfied: requests<3.0.0,>=2.13.0 in /Users/kai/miniconda3/envs/numpy1/lib/python3.12/site-packages (from spacy->bert-extractive-summarizer) (2.32.3)\n",
      "Collecting pydantic!=1.8,!=1.8.1,<3.0.0,>=1.7.4 (from spacy->bert-extractive-summarizer)\n",
      "  Downloading pydantic-2.10.3-py3-none-any.whl.metadata (172 kB)\n",
      "Requirement already satisfied: jinja2 in /Users/kai/miniconda3/envs/numpy1/lib/python3.12/site-packages (from spacy->bert-extractive-summarizer) (3.1.4)\n",
      "Requirement already satisfied: setuptools in /Users/kai/miniconda3/envs/numpy1/lib/python3.12/site-packages (from spacy->bert-extractive-summarizer) (72.1.0)\n",
      "Requirement already satisfied: packaging>=20.0 in /Users/kai/miniconda3/envs/numpy1/lib/python3.12/site-packages (from spacy->bert-extractive-summarizer) (24.1)\n",
      "Collecting langcodes<4.0.0,>=3.2.0 (from spacy->bert-extractive-summarizer)\n",
      "  Using cached langcodes-3.5.0-py3-none-any.whl.metadata (29 kB)\n",
      "Requirement already satisfied: filelock in /Users/kai/miniconda3/envs/numpy1/lib/python3.12/site-packages (from transformers->bert-extractive-summarizer) (3.13.1)\n",
      "Requirement already satisfied: huggingface-hub<1.0,>=0.23.2 in /Users/kai/miniconda3/envs/numpy1/lib/python3.12/site-packages (from transformers->bert-extractive-summarizer) (0.24.6)\n",
      "Requirement already satisfied: pyyaml>=5.1 in /Users/kai/miniconda3/envs/numpy1/lib/python3.12/site-packages (from transformers->bert-extractive-summarizer) (6.0.2)\n",
      "Requirement already satisfied: regex!=2019.12.17 in /Users/kai/miniconda3/envs/numpy1/lib/python3.12/site-packages (from transformers->bert-extractive-summarizer) (2024.11.6)\n",
      "Requirement already satisfied: tokenizers<0.21,>=0.20 in /Users/kai/miniconda3/envs/numpy1/lib/python3.12/site-packages (from transformers->bert-extractive-summarizer) (0.20.1)\n",
      "Requirement already satisfied: safetensors>=0.4.1 in /Users/kai/miniconda3/envs/numpy1/lib/python3.12/site-packages (from transformers->bert-extractive-summarizer) (0.4.5)\n",
      "Requirement already satisfied: fsspec>=2023.5.0 in /Users/kai/miniconda3/envs/numpy1/lib/python3.12/site-packages (from huggingface-hub<1.0,>=0.23.2->transformers->bert-extractive-summarizer) (2024.6.1)\n",
      "Requirement already satisfied: typing-extensions>=3.7.4.3 in /Users/kai/miniconda3/envs/numpy1/lib/python3.12/site-packages (from huggingface-hub<1.0,>=0.23.2->transformers->bert-extractive-summarizer) (4.11.0)\n",
      "Collecting language-data>=1.2 (from langcodes<4.0.0,>=3.2.0->spacy->bert-extractive-summarizer)\n",
      "  Using cached language_data-1.3.0-py3-none-any.whl.metadata (4.3 kB)\n",
      "Collecting annotated-types>=0.6.0 (from pydantic!=1.8,!=1.8.1,<3.0.0,>=1.7.4->spacy->bert-extractive-summarizer)\n",
      "  Using cached annotated_types-0.7.0-py3-none-any.whl.metadata (15 kB)\n",
      "Collecting pydantic-core==2.27.1 (from pydantic!=1.8,!=1.8.1,<3.0.0,>=1.7.4->spacy->bert-extractive-summarizer)\n",
      "  Using cached pydantic_core-2.27.1-cp312-cp312-macosx_11_0_arm64.whl.metadata (6.6 kB)\n",
      "Collecting typing-extensions>=3.7.4.3 (from huggingface-hub<1.0,>=0.23.2->transformers->bert-extractive-summarizer)\n",
      "  Using cached typing_extensions-4.12.2-py3-none-any.whl.metadata (3.0 kB)\n",
      "Requirement already satisfied: charset-normalizer<4,>=2 in /Users/kai/miniconda3/envs/numpy1/lib/python3.12/site-packages (from requests<3.0.0,>=2.13.0->spacy->bert-extractive-summarizer) (3.3.2)\n",
      "Requirement already satisfied: idna<4,>=2.5 in /Users/kai/miniconda3/envs/numpy1/lib/python3.12/site-packages (from requests<3.0.0,>=2.13.0->spacy->bert-extractive-summarizer) (3.7)\n",
      "Requirement already satisfied: urllib3<3,>=1.21.1 in /Users/kai/miniconda3/envs/numpy1/lib/python3.12/site-packages (from requests<3.0.0,>=2.13.0->spacy->bert-extractive-summarizer) (2.2.3)\n",
      "Requirement already satisfied: certifi>=2017.4.17 in /Users/kai/miniconda3/envs/numpy1/lib/python3.12/site-packages (from requests<3.0.0,>=2.13.0->spacy->bert-extractive-summarizer) (2024.8.30)\n",
      "Collecting blis<1.1.0,>=1.0.0 (from thinc<8.4.0,>=8.3.0->spacy->bert-extractive-summarizer)\n",
      "  Using cached blis-1.0.1-cp312-cp312-macosx_11_0_arm64.whl.metadata (7.6 kB)\n",
      "Collecting confection<1.0.0,>=0.0.1 (from thinc<8.4.0,>=8.3.0->spacy->bert-extractive-summarizer)\n",
      "  Using cached confection-0.1.5-py3-none-any.whl.metadata (19 kB)\n",
      "Collecting numpy>=1.19.5 (from scikit-learn->bert-extractive-summarizer)\n",
      "  Using cached numpy-2.0.2-cp312-cp312-macosx_14_0_arm64.whl.metadata (60 kB)\n",
      "Requirement already satisfied: click>=8.0.0 in /Users/kai/miniconda3/envs/numpy1/lib/python3.12/site-packages (from typer<1.0.0,>=0.3.0->spacy->bert-extractive-summarizer) (8.1.7)\n",
      "Collecting shellingham>=1.3.0 (from typer<1.0.0,>=0.3.0->spacy->bert-extractive-summarizer)\n",
      "  Using cached shellingham-1.5.4-py2.py3-none-any.whl.metadata (3.5 kB)\n",
      "Collecting rich>=10.11.0 (from typer<1.0.0,>=0.3.0->spacy->bert-extractive-summarizer)\n",
      "  Using cached rich-13.9.4-py3-none-any.whl.metadata (18 kB)\n",
      "Collecting cloudpathlib<1.0.0,>=0.7.0 (from weasel<0.5.0,>=0.1.0->spacy->bert-extractive-summarizer)\n",
      "  Using cached cloudpathlib-0.20.0-py3-none-any.whl.metadata (14 kB)\n",
      "Collecting smart-open<8.0.0,>=5.2.1 (from weasel<0.5.0,>=0.1.0->spacy->bert-extractive-summarizer)\n",
      "  Using cached smart_open-7.0.5-py3-none-any.whl.metadata (24 kB)\n",
      "Requirement already satisfied: MarkupSafe>=2.0 in /Users/kai/miniconda3/envs/numpy1/lib/python3.12/site-packages (from jinja2->spacy->bert-extractive-summarizer) (2.1.3)\n",
      "Collecting marisa-trie>=1.1.0 (from language-data>=1.2->langcodes<4.0.0,>=3.2.0->spacy->bert-extractive-summarizer)\n",
      "  Using cached marisa_trie-1.2.1-cp312-cp312-macosx_11_0_arm64.whl.metadata (9.0 kB)\n",
      "Collecting markdown-it-py>=2.2.0 (from rich>=10.11.0->typer<1.0.0,>=0.3.0->spacy->bert-extractive-summarizer)\n",
      "  Using cached markdown_it_py-3.0.0-py3-none-any.whl.metadata (6.9 kB)\n",
      "Requirement already satisfied: pygments<3.0.0,>=2.13.0 in /Users/kai/miniconda3/envs/numpy1/lib/python3.12/site-packages (from rich>=10.11.0->typer<1.0.0,>=0.3.0->spacy->bert-extractive-summarizer) (2.15.1)\n",
      "Collecting wrapt (from smart-open<8.0.0,>=5.2.1->weasel<0.5.0,>=0.1.0->spacy->bert-extractive-summarizer)\n",
      "  Using cached wrapt-1.17.0-cp312-cp312-macosx_11_0_arm64.whl.metadata (6.4 kB)\n",
      "Collecting mdurl~=0.1 (from markdown-it-py>=2.2.0->rich>=10.11.0->typer<1.0.0,>=0.3.0->spacy->bert-extractive-summarizer)\n",
      "  Using cached mdurl-0.1.2-py3-none-any.whl.metadata (1.6 kB)\n",
      "Using cached bert_extractive_summarizer-0.10.1-py3-none-any.whl (25 kB)\n",
      "Using cached spacy-3.8.2-cp312-cp312-macosx_11_0_arm64.whl (6.0 MB)\n",
      "Using cached catalogue-2.0.10-py3-none-any.whl (17 kB)\n",
      "Using cached cymem-2.0.10-cp312-cp312-macosx_11_0_arm64.whl (42 kB)\n",
      "Using cached langcodes-3.5.0-py3-none-any.whl (182 kB)\n",
      "Using cached murmurhash-1.0.11-cp312-cp312-macosx_11_0_arm64.whl (27 kB)\n",
      "Using cached preshed-3.0.9-cp312-cp312-macosx_11_0_arm64.whl (128 kB)\n",
      "Downloading pydantic-2.10.3-py3-none-any.whl (456 kB)\n",
      "Using cached pydantic_core-2.27.1-cp312-cp312-macosx_11_0_arm64.whl (1.8 MB)\n",
      "Using cached spacy_legacy-3.0.12-py2.py3-none-any.whl (29 kB)\n",
      "Using cached spacy_loggers-1.0.5-py3-none-any.whl (22 kB)\n",
      "Using cached srsly-2.4.8-cp312-cp312-macosx_11_0_arm64.whl (486 kB)\n",
      "Using cached thinc-8.3.2-cp312-cp312-macosx_11_0_arm64.whl (761 kB)\n",
      "Using cached numpy-2.0.2-cp312-cp312-macosx_14_0_arm64.whl (5.0 MB)\n",
      "Downloading typer-0.15.0-py3-none-any.whl (44 kB)\n",
      "Using cached wasabi-1.1.3-py3-none-any.whl (27 kB)\n",
      "Using cached weasel-0.4.1-py3-none-any.whl (50 kB)\n",
      "Using cached annotated_types-0.7.0-py3-none-any.whl (13 kB)\n",
      "Using cached blis-1.0.1-cp312-cp312-macosx_11_0_arm64.whl (1.1 MB)\n",
      "Using cached cloudpathlib-0.20.0-py3-none-any.whl (52 kB)\n",
      "Using cached confection-0.1.5-py3-none-any.whl (35 kB)\n",
      "Using cached language_data-1.3.0-py3-none-any.whl (5.4 MB)\n",
      "Using cached rich-13.9.4-py3-none-any.whl (242 kB)\n",
      "Using cached shellingham-1.5.4-py2.py3-none-any.whl (9.8 kB)\n",
      "Using cached smart_open-7.0.5-py3-none-any.whl (61 kB)\n",
      "Using cached typing_extensions-4.12.2-py3-none-any.whl (37 kB)\n",
      "Using cached marisa_trie-1.2.1-cp312-cp312-macosx_11_0_arm64.whl (174 kB)\n",
      "Using cached markdown_it_py-3.0.0-py3-none-any.whl (87 kB)\n",
      "Using cached wrapt-1.17.0-cp312-cp312-macosx_11_0_arm64.whl (38 kB)\n",
      "Using cached mdurl-0.1.2-py3-none-any.whl (10.0 kB)\n",
      "Installing collected packages: cymem, wrapt, wasabi, typing-extensions, spacy-loggers, spacy-legacy, shellingham, numpy, murmurhash, mdurl, marisa-trie, cloudpathlib, catalogue, annotated-types, srsly, smart-open, pydantic-core, preshed, markdown-it-py, language-data, blis, rich, pydantic, langcodes, typer, confection, weasel, thinc, spacy, bert-extractive-summarizer\n",
      "  Attempting uninstall: typing-extensions\n",
      "    Found existing installation: typing_extensions 4.11.0\n",
      "    Uninstalling typing_extensions-4.11.0:\n",
      "      Successfully uninstalled typing_extensions-4.11.0\n",
      "  Attempting uninstall: numpy\n",
      "    Found existing installation: numpy 1.26.4\n",
      "    Uninstalling numpy-1.26.4:\n",
      "      Successfully uninstalled numpy-1.26.4\n",
      "Successfully installed annotated-types-0.7.0 bert-extractive-summarizer-0.10.1 blis-1.0.1 catalogue-2.0.10 cloudpathlib-0.20.0 confection-0.1.5 cymem-2.0.10 langcodes-3.5.0 language-data-1.3.0 marisa-trie-1.2.1 markdown-it-py-3.0.0 mdurl-0.1.2 murmurhash-1.0.11 numpy-2.0.2 preshed-3.0.9 pydantic-2.10.3 pydantic-core-2.27.1 rich-13.9.4 shellingham-1.5.4 smart-open-7.0.5 spacy-3.8.2 spacy-legacy-3.0.12 spacy-loggers-1.0.5 srsly-2.4.8 thinc-8.3.2 typer-0.15.0 typing-extensions-4.12.2 wasabi-1.1.3 weasel-0.4.1 wrapt-1.17.0\n"
     ]
    }
   ],
   "source": [
    "# !pip install -U sentence-transformers \n",
    "# !pip install bert-extractive-summarizer"
   ]
  },
  {
   "cell_type": "code",
   "execution_count": 13,
   "metadata": {},
   "outputs": [
    {
     "data": {
      "application/vnd.jupyter.widget-view+json": {
       "model_id": "0af87502f3d24f428e8c2b9ebe4a16ba",
       "version_major": 2,
       "version_minor": 0
      },
      "text/plain": [
       "modules.json:   0%|          | 0.00/229 [00:00<?, ?B/s]"
      ]
     },
     "metadata": {},
     "output_type": "display_data"
    },
    {
     "data": {
      "application/vnd.jupyter.widget-view+json": {
       "model_id": "d180ae42fbfa45178f63be32a7eb342d",
       "version_major": 2,
       "version_minor": 0
      },
      "text/plain": [
       "config_sentence_transformers.json:   0%|          | 0.00/122 [00:00<?, ?B/s]"
      ]
     },
     "metadata": {},
     "output_type": "display_data"
    },
    {
     "data": {
      "application/vnd.jupyter.widget-view+json": {
       "model_id": "dd42b8f630cd4d48b556add5cc59a9c9",
       "version_major": 2,
       "version_minor": 0
      },
      "text/plain": [
       "README.md:   0%|          | 0.00/3.73k [00:00<?, ?B/s]"
      ]
     },
     "metadata": {},
     "output_type": "display_data"
    },
    {
     "data": {
      "application/vnd.jupyter.widget-view+json": {
       "model_id": "0bdb8bb5cd024b83a4afdd99b120f0dc",
       "version_major": 2,
       "version_minor": 0
      },
      "text/plain": [
       "sentence_bert_config.json:   0%|          | 0.00/53.0 [00:00<?, ?B/s]"
      ]
     },
     "metadata": {},
     "output_type": "display_data"
    },
    {
     "data": {
      "application/vnd.jupyter.widget-view+json": {
       "model_id": "b7355826ce884df0a5c45cd130d08a2a",
       "version_major": 2,
       "version_minor": 0
      },
      "text/plain": [
       "1_Pooling/config.json:   0%|          | 0.00/190 [00:00<?, ?B/s]"
      ]
     },
     "metadata": {},
     "output_type": "display_data"
    }
   ],
   "source": [
    "from summarizer.sbert import SBertSummarizer\n",
    "\n",
    "# body = 'Text body that you want to summarize with BERT'\n",
    "model = SBertSummarizer('paraphrase-MiniLM-L6-v2')"
   ]
  },
  {
   "cell_type": "code",
   "execution_count": 15,
   "metadata": {},
   "outputs": [],
   "source": [
    "# summary = []\n",
    "# for i,text in tqdm(enumerate(df.text)):\n",
    "#   result = model(text, num_sentences=2)\n",
    "#   summary.append(result)\n",
    "#   if i == 10:\n",
    "#     print(summary)\n",
    "#     break"
   ]
  },
  {
   "cell_type": "code",
   "execution_count": 16,
   "metadata": {},
   "outputs": [
    {
     "data": {
      "text/plain": [
       "Index(['label', 'text', 'textClean'], dtype='object')"
      ]
     },
     "execution_count": 16,
     "metadata": {},
     "output_type": "execute_result"
    }
   ],
   "source": [
    " \n",
    "import re\n",
    " \n",
    "repl = ['SPEAKER','SPEAKER_','SPEAKER_A','SPEAKER_B','Speaker', 'Sprecher_A','Sprecher_B','Sprecher_C','Sprecher_D','Sprecher_Unbekannt',\n",
    "        'SPRECHER_A','SPRECHER_B','SPRECHER_C','SPRECHER_D','SPRECHER_UNBEKANNT']\n",
    " \n",
    "def cleanTextDF(df, column):\n",
    "    \"\"\"Clean text in the specified column.\"\"\"\n",
    "    df['textClean'] = df[column].fillna('').astype(str)  # Ensure no NaN values and convert to string\n",
    "    df['textClean'] = df['textClean'].str.replace(r'\\d+', '', regex=True)  # Remove numbers\n",
    "    # Remove anonymisation placeholders\n",
    "    df['textClean'] = df['textClean'].str.replace(r'({Name}|{Nummer}|Strassenummer|{Stadt}|{Ort})', '', regex=True)\n",
    "    # Remove punctuation except fullstop\n",
    "    df['textClean'] = df['textClean'].str.replace(r'[,{}?!:;]', '', regex=True) \n",
    "    # Remove apostrophes\n",
    "    df['textClean'] = df['textClean'].str.replace(r\"[\\\"\\',]\", '', regex=True) \n",
    "    df['textClean'] = df['textClean'].apply(lambda x: ' '.join([word for word in x.split() if word not in repl]))\n",
    " \n",
    "    return df['textClean']\n",
    " \n",
    "df['textClean'] = cleanTextDF(df, 'text')\n",
    "df.columns"
   ]
  },
  {
   "cell_type": "code",
   "execution_count": 17,
   "metadata": {},
   "outputs": [
    {
     "data": {
      "application/vnd.jupyter.widget-view+json": {
       "model_id": "0f040a2c345e44288a812942e32c0927",
       "version_major": 2,
       "version_minor": 0
      },
      "text/plain": [
       "  0%|          | 0/985 [00:00<?, ?it/s]"
      ]
     },
     "metadata": {},
     "output_type": "display_data"
    }
   ],
   "source": [
    "summary = []\n",
    "for i in tqdm(range(len(df['textClean']))):\n",
    "  result = model(df.textClean.iloc[i], num_sentences=2)\n",
    "  summary.append(result)\n",
    "  # if i == 5:\n",
    "  #   for text in summary:\n",
    "  #     print(text)\n",
    "  #   break\n"
   ]
  },
  {
   "cell_type": "code",
   "execution_count": 18,
   "metadata": {},
   "outputs": [
    {
     "data": {
      "text/html": [
       "<div>\n",
       "<style scoped>\n",
       "    .dataframe tbody tr th:only-of-type {\n",
       "        vertical-align: middle;\n",
       "    }\n",
       "\n",
       "    .dataframe tbody tr th {\n",
       "        vertical-align: top;\n",
       "    }\n",
       "\n",
       "    .dataframe thead th {\n",
       "        text-align: right;\n",
       "    }\n",
       "</style>\n",
       "<table border=\"1\" class=\"dataframe\">\n",
       "  <thead>\n",
       "    <tr style=\"text-align: right;\">\n",
       "      <th></th>\n",
       "      <th>label</th>\n",
       "      <th>text</th>\n",
       "      <th>textClean</th>\n",
       "      <th>textClean_2</th>\n",
       "    </tr>\n",
       "  </thead>\n",
       "  <tbody>\n",
       "    <tr>\n",
       "      <th>1</th>\n",
       "      <td>Ratsuche</td>\n",
       "      <td>SPRECHER_A : Ich glaube , bei der Berner Zeitu...</td>\n",
       "      <td>Ich glaube bei der Berner Zeitung würde ich Ih...</td>\n",
       "      <td>Ich glaube bei der Berner Zeitung würde ich Ih...</td>\n",
       "    </tr>\n",
       "    <tr>\n",
       "      <th>2</th>\n",
       "      <td>Keine</td>\n",
       "      <td>SPRECHER_B : Berner Zeitung , Aboservice , {Na...</td>\n",
       "      <td>Berner Zeitung Aboservice mein Name wie kann i...</td>\n",
       "      <td>Berner Zeitung Aboservice mein Name wie kann i...</td>\n",
       "    </tr>\n",
       "    <tr>\n",
       "      <th>4</th>\n",
       "      <td>Vertrauen</td>\n",
       "      <td>SPRECHER_A : Schweizer Familie , Aboservice , ...</td>\n",
       "      <td>Schweizer Familie Aboservice mein Name wie kan...</td>\n",
       "      <td>Schweizer Familie Aboservice mein Name wie kan...</td>\n",
       "    </tr>\n",
       "    <tr>\n",
       "      <th>5</th>\n",
       "      <td>Vertrauen</td>\n",
       "      <td>SPRECHER_A : Guten Tag , hier ist {Name} von d...</td>\n",
       "      <td>Guten Tag hier ist von der Passer-Zeitung . Ja...</td>\n",
       "      <td>Guten Tag hier ist von der Passer-Zeitung . We...</td>\n",
       "    </tr>\n",
       "    <tr>\n",
       "      <th>6</th>\n",
       "      <td>Pragmatismus</td>\n",
       "      <td>SPRECHER_A : Also sagen wir nochmals einen sch...</td>\n",
       "      <td>Also sagen wir nochmals einen schönen guten Ta...</td>\n",
       "      <td>Also sagen wir nochmals einen schönen guten Ta...</td>\n",
       "    </tr>\n",
       "  </tbody>\n",
       "</table>\n",
       "</div>"
      ],
      "text/plain": [
       "          label                                               text  \\\n",
       "1      Ratsuche  SPRECHER_A : Ich glaube , bei der Berner Zeitu...   \n",
       "2         Keine  SPRECHER_B : Berner Zeitung , Aboservice , {Na...   \n",
       "4     Vertrauen  SPRECHER_A : Schweizer Familie , Aboservice , ...   \n",
       "5     Vertrauen  SPRECHER_A : Guten Tag , hier ist {Name} von d...   \n",
       "6  Pragmatismus  SPRECHER_A : Also sagen wir nochmals einen sch...   \n",
       "\n",
       "                                           textClean  \\\n",
       "1  Ich glaube bei der Berner Zeitung würde ich Ih...   \n",
       "2  Berner Zeitung Aboservice mein Name wie kann i...   \n",
       "4  Schweizer Familie Aboservice mein Name wie kan...   \n",
       "5  Guten Tag hier ist von der Passer-Zeitung . Ja...   \n",
       "6  Also sagen wir nochmals einen schönen guten Ta...   \n",
       "\n",
       "                                         textClean_2  \n",
       "1  Ich glaube bei der Berner Zeitung würde ich Ih...  \n",
       "2  Berner Zeitung Aboservice mein Name wie kann i...  \n",
       "4  Schweizer Familie Aboservice mein Name wie kan...  \n",
       "5  Guten Tag hier ist von der Passer-Zeitung . We...  \n",
       "6  Also sagen wir nochmals einen schönen guten Ta...  "
      ]
     },
     "execution_count": 18,
     "metadata": {},
     "output_type": "execute_result"
    }
   ],
   "source": [
    "df['textClean_2'] = summary\n",
    "df.head()"
   ]
  },
  {
   "cell_type": "code",
   "execution_count": 19,
   "metadata": {},
   "outputs": [
    {
     "data": {
      "text/html": [
       "<div>\n",
       "<style scoped>\n",
       "    .dataframe tbody tr th:only-of-type {\n",
       "        vertical-align: middle;\n",
       "    }\n",
       "\n",
       "    .dataframe tbody tr th {\n",
       "        vertical-align: top;\n",
       "    }\n",
       "\n",
       "    .dataframe thead th {\n",
       "        text-align: right;\n",
       "    }\n",
       "</style>\n",
       "<table border=\"1\" class=\"dataframe\">\n",
       "  <thead>\n",
       "    <tr style=\"text-align: right;\">\n",
       "      <th></th>\n",
       "      <th>textClean_2</th>\n",
       "      <th>textClean</th>\n",
       "      <th>label</th>\n",
       "    </tr>\n",
       "  </thead>\n",
       "  <tbody>\n",
       "    <tr>\n",
       "      <th>1</th>\n",
       "      <td>Ich glaube bei der Berner Zeitung würde ich Ih...</td>\n",
       "      <td>Ich glaube bei der Berner Zeitung würde ich Ih...</td>\n",
       "      <td>Ratsuche</td>\n",
       "    </tr>\n",
       "    <tr>\n",
       "      <th>2</th>\n",
       "      <td>Berner Zeitung Aboservice mein Name wie kann i...</td>\n",
       "      <td>Berner Zeitung Aboservice mein Name wie kann i...</td>\n",
       "      <td>Keine</td>\n",
       "    </tr>\n",
       "    <tr>\n",
       "      <th>4</th>\n",
       "      <td>Schweizer Familie Aboservice mein Name wie kan...</td>\n",
       "      <td>Schweizer Familie Aboservice mein Name wie kan...</td>\n",
       "      <td>Vertrauen</td>\n",
       "    </tr>\n",
       "    <tr>\n",
       "      <th>5</th>\n",
       "      <td>Guten Tag hier ist von der Passer-Zeitung . We...</td>\n",
       "      <td>Guten Tag hier ist von der Passer-Zeitung . Ja...</td>\n",
       "      <td>Vertrauen</td>\n",
       "    </tr>\n",
       "    <tr>\n",
       "      <th>6</th>\n",
       "      <td>Also sagen wir nochmals einen schönen guten Ta...</td>\n",
       "      <td>Also sagen wir nochmals einen schönen guten Ta...</td>\n",
       "      <td>Pragmatismus</td>\n",
       "    </tr>\n",
       "  </tbody>\n",
       "</table>\n",
       "</div>"
      ],
      "text/plain": [
       "                                         textClean_2  \\\n",
       "1  Ich glaube bei der Berner Zeitung würde ich Ih...   \n",
       "2  Berner Zeitung Aboservice mein Name wie kann i...   \n",
       "4  Schweizer Familie Aboservice mein Name wie kan...   \n",
       "5  Guten Tag hier ist von der Passer-Zeitung . We...   \n",
       "6  Also sagen wir nochmals einen schönen guten Ta...   \n",
       "\n",
       "                                           textClean         label  \n",
       "1  Ich glaube bei der Berner Zeitung würde ich Ih...      Ratsuche  \n",
       "2  Berner Zeitung Aboservice mein Name wie kann i...         Keine  \n",
       "4  Schweizer Familie Aboservice mein Name wie kan...     Vertrauen  \n",
       "5  Guten Tag hier ist von der Passer-Zeitung . Ja...     Vertrauen  \n",
       "6  Also sagen wir nochmals einen schönen guten Ta...  Pragmatismus  "
      ]
     },
     "execution_count": 19,
     "metadata": {},
     "output_type": "execute_result"
    }
   ],
   "source": [
    "clean_df = df[['textClean_2','textClean','label']]\n",
    "clean_df.to_csv('tamedia_2view_CLEAN.csv', sep=',', index=False, encoding='utf-8')\n",
    "clean_df.head()\n"
   ]
  },
  {
   "cell_type": "code",
   "execution_count": 20,
   "metadata": {},
   "outputs": [
    {
     "data": {
      "image/png": "[encoded data removed]",
      "text/plain": [
       "<Figure size 1200x300 with 1 Axes>"
      ]
     },
     "metadata": {},
     "output_type": "display_data"
    },
    {
     "data": {
      "text/plain": [
       "Counter({'0': 664,\n",
       "         'Keine': 133,\n",
       "         'Pragmatismus': 63,\n",
       "         'Selbermachen': 58,\n",
       "         'Vertrauen': 34,\n",
       "         'Ratsuche': 33})"
      ]
     },
     "execution_count": 20,
     "metadata": {},
     "output_type": "execute_result"
    }
   ],
   "source": [
    "plt.figure(figsize=(12, 3))\n",
    "sns.countplot(x='label', data=clean_df, palette='viridis')\n",
    "plt.title('Distribution of Motive Types')\n",
    "plt.xlabel('Motive Types')\n",
    "plt.ylabel('Count')\n",
    "plt.show()\n",
    "Counter(clean_df.label)"
   ]
  },
  {
   "cell_type": "code",
   "execution_count": 21,
   "metadata": {},
   "outputs": [
    {
     "data": {
      "text/plain": [
       "Counter({'0': 664})"
      ]
     },
     "execution_count": 21,
     "metadata": {},
     "output_type": "execute_result"
    }
   ],
   "source": [
    "df_l = clean_df[clean_df['label'] != \"0\"]\n",
    "df_ul = clean_df[clean_df['label'] == \"0\"]\n",
    "Counter(df_ul.label)"
   ]
  },
  {
   "cell_type": "code",
   "execution_count": 22,
   "metadata": {},
   "outputs": [
    {
     "data": {
      "text/plain": [
       "Counter({'Keine': 133,\n",
       "         'Pragmatismus': 63,\n",
       "         'Selbermachen': 58,\n",
       "         'Vertrauen': 34,\n",
       "         'Ratsuche': 33})"
      ]
     },
     "execution_count": 22,
     "metadata": {},
     "output_type": "execute_result"
    }
   ],
   "source": [
    "Counter(df_l.label)"
   ]
  },
  {
   "cell_type": "markdown",
   "metadata": {},
   "source": [
    "#### Vectorize - TFIDF\n"
   ]
  },
  {
   "cell_type": "code",
   "execution_count": 23,
   "metadata": {},
   "outputs": [
    {
     "name": "stdout",
     "output_type": "stream",
     "text": [
      "vectorization done in 0.116 s\n",
      "n_samples: 321, n_features: 838\n",
      "LSA done in 0.110 s\n",
      "Explained variance of the SVD step: 49.8%\n"
     ]
    }
   ],
   "source": [
    "from sklearn.preprocessing import LabelEncoder\n",
    "# label encoder\n",
    "le = LabelEncoder()   ### ENCODE\n",
    "\n",
    "y_encoded = le.fit_transform(df_l.label)\n",
    "\n",
    "\"\"\"\n",
    "\n",
    "# Decode labels back to original form if needed\n",
    "y_resampled_decoded = le.inverse_transform(y_resampled)\n",
    "\n",
    "\"\"\"\n",
    "\n",
    "\n",
    "X_l_1 = df_l.textClean\n",
    "X_l_2 = df_l.textClean_2\n",
    "\n",
    "X_ul_1 = df_ul.textClean\n",
    "X_ul_2 = df_ul.textClean_2\n",
    "\n",
    "vectorizer = TfidfVectorizer(\n",
    "    max_df=0.5,\n",
    "    min_df=5,\n",
    "    stop_words=None,\n",
    ")\n",
    "t0 = time()\n",
    "X_l_1tfidf = vectorizer.fit_transform(X_l_1)\n",
    "X_l_2tfidf = vectorizer.fit_transform(X_l_2)\n",
    "X_ul_1tfidf = vectorizer.fit_transform(X_ul_1)\n",
    "X_ul_2tfidf = vectorizer.fit_transform(X_ul_2)\n",
    "\n",
    "print(f\"vectorization done in {time() - t0:.3f} s\")\n",
    "print(f\"n_samples: {X_l_1tfidf.shape[0]}, n_features: {X_l_1tfidf.shape[1]}\")\n",
    "\n",
    "# feature reduction\n",
    "lsa_1 = make_pipeline(TruncatedSVD(n_components=100), Normalizer(copy=False))\n",
    "lsa_2 = make_pipeline(TruncatedSVD(n_components=20), Normalizer(copy=False))\n",
    "t0 = time()\n",
    "\n",
    "\n",
    "X_l_lsa_1 = lsa_1.fit_transform(X_l_1tfidf)\n",
    "X_l_lsa_2 = lsa_2.fit_transform(X_l_2tfidf)\n",
    "X_ul_lsa_1 = lsa_1.fit_transform(X_ul_1tfidf)\n",
    "X_ul_lsa_2 = lsa_2.fit_transform(X_ul_2tfidf)\n",
    "\n",
    "explained_variance = lsa_1[0].explained_variance_ratio_.sum()\n",
    "\n",
    "print(f\"LSA done in {time() - t0:.3f} s\")\n",
    "print(f\"Explained variance of the SVD step: {explained_variance * 100:.1f}%\")\n",
    "\n"
   ]
  },
  {
   "cell_type": "markdown",
   "metadata": {},
   "source": [
    "#### SMOTE banlance data and splite the label data.\n",
    "\n",
    "splite the labeld dataset to 50% train(reset) and test dataset."
   ]
  },
  {
   "cell_type": "code",
   "execution_count": 24,
   "metadata": {},
   "outputs": [
    {
     "name": "stdout",
     "output_type": "stream",
     "text": [
      "Before SMOTE: Counter({0: 64, 1: 34, 3: 28, 4: 17, 2: 17})\n",
      "After SMOTE: Counter({4: 64, 3: 64, 0: 64, 1: 64, 2: 64})\n",
      "Before SMOTE: (160, 100)\n",
      "After SMOTE  x: (320, 100)\n",
      "After SMOTE  y: (320,)\n",
      "X_1_test: (161, 100)\n",
      "X_1_ul: (664, 100)\n",
      "Before SMOTE: Counter({0: 64, 1: 34, 3: 28, 4: 17, 2: 17})\n",
      "After SMOTE: Counter({4: 64, 3: 64, 0: 64, 1: 64, 2: 64})\n",
      "Before SMOTE: (160, 20)\n",
      "After SMOTE: (320, 20)\n",
      "X_2_test: (161, 20)\n",
      "X_2_ul: (664, 20)\n"
     ]
    }
   ],
   "source": [
    "# \n",
    "# Split data into train and test sets\n",
    "X_1_train, X_1_test, y_1_train, y_1_test = train_test_split(X_l_lsa_1, y_encoded, test_size=0.5, random_state=42)\n",
    "# Split data into train and test sets\n",
    "X_2_train, X_2_test, y_2_train, y_2_test = train_test_split(X_l_lsa_2, y_encoded, test_size=0.5, random_state=42)\n",
    "\n",
    "# Apply SMOTE\n",
    "smote = SMOTE(random_state=42)\n",
    "X_1_resampled, y_1_resampled = smote.fit_resample(X_1_train, y_1_train)\n",
    "X_2_resampled, y_2_resampled = smote.fit_resample(X_2_train, y_2_train)\n",
    "\n",
    "# Check distribution\n",
    "print(\"Before SMOTE:\", Counter(y_1_train))\n",
    "print(\"After SMOTE:\", Counter(y_1_resampled))\n",
    "print(\"Before SMOTE:\", X_1_train.shape)\n",
    "print(\"After SMOTE  x:\", X_1_resampled.shape)\n",
    "print(\"After SMOTE  y:\", y_1_resampled.shape)\n",
    "print(\"X_1_test:\", X_1_test.shape)\n",
    "print(\"X_1_ul:\", X_ul_lsa_1.shape)\n",
    "\n",
    "\n",
    "# Check distribution\n",
    "print(\"Before SMOTE:\", Counter(y_2_train))\n",
    "print(\"After SMOTE:\", Counter(y_2_resampled))\n",
    "print(\"Before SMOTE:\", X_2_train.shape)\n",
    "print(\"After SMOTE:\", X_2_resampled.shape)\n",
    "print(\"X_2_test:\", X_2_test.shape)\n",
    "print(\"X_2_ul:\", X_ul_lsa_2.shape)\n",
    "\n"
   ]
  },
  {
   "cell_type": "markdown",
   "metadata": {},
   "source": [
    "## Define CoRL environment   /CLFS / ENVS / RLm-Actor created networks"
   ]
  },
  {
   "cell_type": "code",
   "execution_count": 25,
   "metadata": {},
   "outputs": [],
   "source": [
    "\n",
    "# Initialize classifiers (KNN and SVM)\n",
    "\n",
    "svm_1 = SVC(kernel='rbf', probability=True, tol=1e-4, max_iter=10000, C=1.0)\n",
    "svm_2 = SVC(kernel='rbf', probability=True, tol=1e-4, max_iter=10000, C=1.0)\n",
    "classifiers = [svm_1, svm_2]"
   ]
  },
  {
   "cell_type": "code",
   "execution_count": 26,
   "metadata": {},
   "outputs": [],
   "source": [
    "# define ENV\n",
    "\n",
    "# for clustering the unlabeld data\n",
    "\n",
    "class Env():\n",
    "    def __init__(self, classifiers, input_ul_data_1, input_ul_data_2, k, X_test_1, y_test_1, X_reset_1, y_reset_1, X_test_2, y_test_2, X_reset_2, y_reset_2):\n",
    "        # super().__init__\n",
    "        self.models = classifiers\n",
    "    \n",
    "        # UN LABEL DATA\n",
    "        self.X_ul_1 = input_ul_data_1\n",
    "        self.X_ul_2 = input_ul_data_2\n",
    "        # define the evaluate data, later use for the reward\n",
    "        self.X_eval_1 = X_test_1\n",
    "        self.y_eval_1 = y_test_1\n",
    "        self.X_reset_1 = X_reset_1\n",
    "        self.y_reset_1 = y_reset_1\n",
    "        self.X_eval_2 = X_test_2\n",
    "        self.y_eval_2 = y_test_2\n",
    "        self.X_reset_2 = X_reset_2\n",
    "        self.y_reset_2 = y_reset_2\n",
    "\n",
    "        # cluster the data\n",
    "        self.action_size = k\n",
    "        self.kmeans_1 = KMeans(n_clusters=k,  n_init=10)\n",
    "        self.kmeans_2 = KMeans(n_clusters=k,  n_init=10)\n",
    "        self.cluster_label_1 = self.kmeans_1.fit_predict(self.X_ul_1)\n",
    "        self.cluster_label_2 = self.kmeans_2.fit_predict(self.X_ul_2)\n",
    "        # self.u_cluster_label_1 = np.unique(self.cluster_label_1)\n",
    "        # self.u_cluster_label_2 = np.unique(self.cluster_label_2)\n",
    "        self.centroids_1 = self.kmeans_1.cluster_centers_\n",
    "        self.centroids_2 = self.kmeans_2.cluster_centers_\n",
    "        self.observation_size = self.get_state(reset=True).shape[1]\n",
    "        self.prev_macro_f1 = 0.0\n",
    "\n",
    "    # update 2 clf\n",
    "    def train_2_clf(self, X_1, y_1, X_2, y_2):\n",
    "        # print(\"Shapes X_1:\", X_1.shape, \"y_1:\", y_1.shape)\n",
    "        # print(\"Shapes X_2:\", X_2.shape, \"y_2:\", y_2.shape)\n",
    "        self.models[0].fit(X_1, y_1)\n",
    "        self.models[1].fit(X_2, y_2)\n",
    "\n",
    "    def get_state(self, reset=False):\n",
    "        \"\"\"\n",
    "        Generate a state representation by predicting probabilities on centroids using stored models.\n",
    "        Optionally resets and retrains models using X_reset and y_reset.\n",
    "\n",
    "        :param reset: Boolean flag to reset and retrain models before prediction.\n",
    "        :return: Torch tensor of concatenated probabilities reshaped as (1, -1).\n",
    "        \"\"\"\n",
    "        if reset:\n",
    "            if self.X_reset_1 is not None and self.y_reset_1 is not None:\n",
    "                self.train_2_clf(X_1=self.X_reset_1, y_1=self.y_reset_1, X_2=self.X_reset_2, y_2=self.y_reset_2)\n",
    "            else:\n",
    "                raise ValueError(\"Reset datasets X_reset or y_reset are not provided.\")\n",
    "        \n",
    "        if not hasattr(self, 'models') or len(self.models) < 2:\n",
    "            raise ValueError(\"Model list is incomplete or not set.\")\n",
    "\n",
    "        try:\n",
    "            out_1 = self.models[0].predict_proba(self.centroids_1)\n",
    "            out_2 = self.models[1].predict_proba(self.centroids_2)\n",
    "        except Exception as e:\n",
    "            raise RuntimeError(\"Model prediction failed: \" + str(e))\n",
    "        \n",
    "        state_proba = np.concatenate((out_1, out_2), axis=1)\n",
    "        return torch.from_numpy(state_proba).to(torch.float32).reshape(1, -1)\n",
    "\n",
    "\n",
    "    def get_f1(self):\n",
    "\n",
    "        classifier_weights = [self.models[0].score(self.X_eval_1, self.y_eval_1), self.models[1].score(self.X_eval_2, self.y_eval_2)]  # Weights based on validation accuracy\n",
    "        combined_probabilities = np.average(\n",
    "            [self.models[0].predict_proba(self.X_eval_1), self.models[1].predict_proba(self.X_eval_2)],\n",
    "            axis=0,\n",
    "            weights=classifier_weights\n",
    "        )\n",
    "\n",
    "        # Get final predictions from combined probabilities\n",
    "        combined_predictions = np.argmax(combined_probabilities, axis=1)\n",
    "\n",
    "        # Calculate F1 scores per class (harmonic means)\n",
    "        f1_macro = f1_score(self.y_eval_1, combined_predictions, average='macro')\n",
    "        f1_micro = f1_score(self.y_eval_1, combined_predictions, average='micro')\n",
    "\n",
    "        return f1_macro, f1_micro\n",
    "\n",
    "    ######\n",
    "    ######\n",
    "    def get_subset(self, action):\n",
    "        # choose subset\n",
    "        subset_1 = self.X_ul_1[self.cluster_label_1 == action]\n",
    "        subset_2 = self.X_ul_2[self.cluster_label_1 == action]\n",
    "        return subset_1, subset_2\n",
    "\n",
    "    def co_training(self, subset_1, subset_2):\n",
    "\n",
    "        # Average class probabilities across classifiers\n",
    "\n",
    "        avg_probabilities_1 = self.models[0].predict_proba(subset_1)\n",
    "        avg_probabilities_2 = self.models[1].predict_proba(subset_2)\n",
    "\n",
    "        # Assign the label with the highest average probability\n",
    "\n",
    "        y_ul_action_1 = np.argmax(avg_probabilities_1, axis=1)\n",
    "        y_ul_action_2 = np.argmax(avg_probabilities_2, axis=1)\n",
    "        # print(y_ul_action)\n",
    "\n",
    "        ########### update the label_set for traning\n",
    "        X_updated_1 = np.concatenate((self.X_reset_1, subset_1), axis=0)\n",
    "        y_updated_1 = np.concatenate((self.y_reset_1, y_ul_action_2), axis=0)\n",
    "\n",
    "        X_updated_2 = np.concatenate((self.X_reset_2, subset_2), axis=0)\n",
    "        y_updated_2 = np.concatenate((self.y_reset_2, y_ul_action_1), axis=0)\n",
    "\n",
    "        ############# use the updated labeld dateset retrain those 2 classifier\n",
    "        self.train_2_clf(X_1=X_updated_1, y_1=y_updated_1, X_2=X_updated_2, y_2=y_updated_2)\n",
    "\n",
    "       \n",
    "        return self.get_f1()\n",
    "\n",
    "    def step(self, action):\n",
    "        # GET THE bigining state accuracy, later use to calculate the reward\n",
    "        macrof1, microf1 = self.get_f1()\n",
    "\n",
    "        # choose subset\n",
    "        choosen_subset_1, choosen_subset_2 =  self.get_subset(action)\n",
    "\n",
    "\n",
    "        # cotraining the 2 classifier\n",
    "        new_marco_f1, new_micro_f1 = self.co_training(choosen_subset_1, choosen_subset_2)\n",
    "\n",
    "        # get the next state_\n",
    "        n_state = self.get_state()\n",
    "\n",
    "        ##############\n",
    "        # calculate the reward\n",
    "        ##############\n",
    "        if new_marco_f1 > macrof1:\n",
    "            reward_0 = new_marco_f1 - macrof1\n",
    "        else:\n",
    "            reward_0 = 0\n",
    "\n",
    "        return n_state, reward_0, new_marco_f1, new_micro_f1\n"
   ]
  },
  {
   "cell_type": "code",
   "execution_count": 27,
   "metadata": {},
   "outputs": [],
   "source": [
    "k = 400\n",
    "env = Env(classifiers=classifiers, \n",
    "        input_ul_data_1=X_ul_lsa_1,\n",
    "        input_ul_data_2=X_ul_lsa_2, \n",
    "        k=k, \n",
    "        X_test_1=X_1_test, \n",
    "        X_test_2=X_2_test,\n",
    "        y_test_1=y_1_test, \n",
    "        y_test_2=y_2_test, \n",
    "        X_reset_1=X_1_resampled,\n",
    "        X_reset_2=X_2_resampled, \n",
    "        y_reset_1=y_1_resampled, \n",
    "        y_reset_2=y_2_resampled\n",
    "        )\n",
    "\n"
   ]
  },
  {
   "cell_type": "code",
   "execution_count": 28,
   "metadata": {},
   "outputs": [],
   "source": [
    "# env.get_state(reset=True)\n",
    "# # svm_1.fit(X_1_train,y_1_train)\n",
    "# # svm_2.fit(X_2_test,y_2_test)\n",
    "# s1, s2 = env.get_subset(4)\n",
    "# s2.shape\n",
    "# s1.shape\n",
    "\n",
    "# env.get_f1()\n",
    "\n"
   ]
  },
  {
   "cell_type": "code",
   "execution_count": 29,
   "metadata": {},
   "outputs": [],
   "source": [
    "# Actor-Critic Network\n",
    "class ActorCritic(nn.Module):\n",
    "    def __init__(self, state_size, action_size):\n",
    "        super(ActorCritic, self).__init__()\n",
    "        # Shared layers\n",
    "        self.fc1 = nn.Linear(state_size, 128)\n",
    "        self.fc2 = nn.Linear(128, 128)\n",
    "\n",
    "        # Actor: outputs action probabilities (softmax)\n",
    "        self.actor = nn.Linear(128, action_size)\n",
    "\n",
    "\n",
    "        # Critic: outputs state value (for advantage calculation)\n",
    "        self.critic = nn.Linear(128, 1)\n",
    "\n",
    "    def forward(self, x):\n",
    "        x = torch.relu(self.fc1(x))\n",
    "        x = torch.relu(self.fc2(x))\n",
    "\n",
    "        # Policy (actor): softmax over actions\n",
    "        action_probs = torch.softmax(self.actor(x), dim=-1)\n",
    "\n",
    "        # Value (critic): state value estimation\n",
    "        state_value = self.critic(x)\n",
    "\n",
    "        return action_probs, state_value"
   ]
  },
  {
   "cell_type": "code",
   "execution_count": 30,
   "metadata": {},
   "outputs": [],
   "source": [
    "\n",
    "\n",
    "actor_critic = ActorCritic(state_size=env.observation_size, action_size=env.action_size)\n",
    "optimizer = optim.Adam(actor_critic.parameters(), lr=0.001)\n",
    "# Training parameters\n",
    "num_episodes = 200\n",
    "gamma = 0.99\n",
    "results = []"
   ]
  },
  {
   "cell_type": "code",
   "execution_count": 31,
   "metadata": {},
   "outputs": [
    {
     "data": {
      "application/vnd.jupyter.widget-view+json": {
       "model_id": "08e8913c160047acb348e7620119d89e",
       "version_major": 2,
       "version_minor": 0
      },
      "text/plain": [
       "  0%|          | 0/200 [00:00<?, ?it/s]"
      ]
     },
     "metadata": {},
     "output_type": "display_data"
    },
    {
     "name": "stdout",
     "output_type": "stream",
     "text": [
      " Episode 0, Reward: 3.149483886064088  AC losses:tensor([[0.3995]], grad_fn=<AddBackward0>)\n",
      " Episode 10, Reward: 2.8397611256865045  AC losses:tensor([[0.0428]], grad_fn=<AddBackward0>)\n",
      " Episode 20, Reward: 2.8788104976304303  AC losses:tensor([[0.0330]], grad_fn=<AddBackward0>)\n",
      " Episode 30, Reward: 2.7933155795899514  AC losses:tensor([[0.0319]], grad_fn=<AddBackward0>)\n",
      " Episode 40, Reward: 2.683995209477667  AC losses:tensor([[0.0364]], grad_fn=<AddBackward0>)\n",
      " Episode 50, Reward: 2.6854430802495983  AC losses:tensor([[-0.0458]], grad_fn=<AddBackward0>)\n",
      " Episode 60, Reward: 2.6532962288210555  AC losses:tensor([[0.0307]], grad_fn=<AddBackward0>)\n",
      " Episode 70, Reward: 2.643063083413928  AC losses:tensor([[0.0317]], grad_fn=<AddBackward0>)\n",
      " Episode 80, Reward: 3.2066693214722424  AC losses:tensor([[0.7020]], grad_fn=<AddBackward0>)\n",
      " Episode 90, Reward: 3.2597763093207615  AC losses:tensor([[0.0668]], grad_fn=<AddBackward0>)\n",
      " Episode 100, Reward: 3.315755193058757  AC losses:tensor([[-0.1669]], grad_fn=<AddBackward0>)\n",
      " Episode 110, Reward: 3.282564086180139  AC losses:tensor([[0.0816]], grad_fn=<AddBackward0>)\n",
      " Episode 120, Reward: 3.1718645718022573  AC losses:tensor([[-0.0374]], grad_fn=<AddBackward0>)\n",
      " Episode 130, Reward: 3.173549396057589  AC losses:tensor([[0.1976]], grad_fn=<AddBackward0>)\n",
      " Episode 140, Reward: 3.4557196372178365  AC losses:tensor([[-0.0050]], grad_fn=<AddBackward0>)\n",
      " Episode 150, Reward: 3.3838489843557484  AC losses:tensor([[0.0689]], grad_fn=<AddBackward0>)\n",
      " Episode 160, Reward: 3.321442732627045  AC losses:tensor([[0.1796]], grad_fn=<AddBackward0>)\n",
      " Episode 170, Reward: 3.2737380138589542  AC losses:tensor([[0.2317]], grad_fn=<AddBackward0>)\n",
      " Episode 180, Reward: 3.3918272953225252  AC losses:tensor([[0.1243]], grad_fn=<AddBackward0>)\n",
      " Episode 190, Reward: 3.3442868952143097  AC losses:tensor([[0.3183]], grad_fn=<AddBackward0>)\n"
     ]
    }
   ],
   "source": [
    "\n",
    "episode_rewards = []\n",
    "episode_f1s = []\n",
    "macro_f1_scores = []\n",
    "micro_f1_scores = []\n",
    "\n",
    "# Main training loop\n",
    "\n",
    "\n",
    "for episode in tqdm(range(num_episodes)):\n",
    "    state = env.get_state(reset=True)\n",
    "    # state = torch.FloatTensor(state).unsqueeze(0)  # Shape adjustment for single sample\n",
    "    episode_reward = 0\n",
    "    episode_loss = 0.00\n",
    "\n",
    "    for t in range(1, 400):  # Limit the number of time steps\n",
    "        # No need to use GradientTape; PyTorch handles gradients automatically\n",
    "        # Choose an action using the actor\n",
    "        action_probs, state_value = actor_critic(state)\n",
    "        dist = torch.distributions.Categorical(action_probs)\n",
    "        action = dist.sample()\n",
    "\n",
    "\n",
    "        # Take the chosen action and observe the next state and reward\n",
    "        next_state, reward, macro_f1, micro_f1 = env.step(action.item())\n",
    "        # next_state = torch.FloatTensor(next_state).unsqueeze(0)\n",
    "\n",
    "        # print(f\" t: {t}  next_state.shape {next_state.shape} \")\n",
    "\n",
    "        # Compute the advantage\n",
    "        # _, state_value = actor_critic(state)\n",
    "        _, next_state_value = actor_critic(next_state)\n",
    "        advantage = reward + gamma * next_state_value - state_value\n",
    "\n",
    "        # Compute actor and critic losses\n",
    "        actor_loss = -dist.log_prob(action) * advantage.detach()\n",
    "        critic_loss = advantage.pow(2)\n",
    "\n",
    "        # Combine losses for joint update\n",
    "        total_loss = actor_loss + critic_loss\n",
    "\n",
    "        # Update actor and critic\n",
    "        optimizer.zero_grad()\n",
    "        total_loss.backward()\n",
    "        optimizer.step()\n",
    "\n",
    "        state = next_state\n",
    "        episode_reward += reward\n",
    "        episode_loss += total_loss\n",
    "        episode_f1s.append(macro_f1)\n",
    "        if episode == num_episodes - 1:\n",
    "            macro_f1_scores.append(macro_f1)\n",
    "            micro_f1_scores.append(micro_f1)\n",
    "\n",
    "    episode_rewards.append(episode_reward)\n",
    "\n",
    "    if episode % 10 == 0:\n",
    "        print(f\" Episode {episode}, Reward: {episode_reward}  AC losses:{episode_loss}\")\n",
    "results.append([episode_rewards, episode_f1s, macro_f1_scores, micro_f1_scores])"
   ]
  },
  {
   "cell_type": "code",
   "execution_count": 32,
   "metadata": {},
   "outputs": [
    {
     "data": {
      "image/png": "[encoded data removed]",
      "text/plain": [
       "<Figure size 640x480 with 1 Axes>"
      ]
     },
     "metadata": {},
     "output_type": "display_data"
    }
   ],
   "source": [
    "import matplotlib.pyplot as plt\n",
    "from sklearn.linear_model import LinearRegression\n",
    "import seaborn as sns\n",
    "import numpy as np\n",
    "\n",
    "sns.set()\n",
    "\n",
    "plt.plot(episode_rewards)\n",
    "plt.ylabel('Acumulate rewards')\n",
    "plt.xlabel('episodes')\n",
    "plt.title(f'Training returns of AC {num_episodes}episodes')\n",
    "\n",
    "reg = LinearRegression().fit(np.arange(len(episode_rewards)).reshape(-1, 1), np.array(episode_rewards).reshape(-1, 1))\n",
    "y_pred = reg.predict(np.arange(len(episode_rewards)).reshape(-1, 1))\n",
    "plt.plot(y_pred)\n",
    "plt.show()"
   ]
  },
  {
   "cell_type": "code",
   "execution_count": 33,
   "metadata": {},
   "outputs": [
    {
     "data": {
      "image/png": "[encoded data removed]",
      "text/plain": [
       "<Figure size 640x480 with 1 Axes>"
      ]
     },
     "metadata": {},
     "output_type": "display_data"
    }
   ],
   "source": [
    "\n",
    "\n",
    "def calculate_averages(numbers):\n",
    "  \"\"\"Calculates the average of every 10 consecutive numbers in a list.\n",
    "\n",
    "  Args:\n",
    "    numbers: A list of numbers.\n",
    "\n",
    "  Returns:\n",
    "    A list of averages, each representing the average of 10 consecutive numbers.\n",
    "  \"\"\"\n",
    "\n",
    "  averages = []\n",
    "  for i in range(0, len(numbers), 400):\n",
    "    chunk = numbers[i:i+400]\n",
    "    average = sum(chunk) / len(chunk)\n",
    "    averages.append(average)\n",
    "  return averages\n",
    "\n",
    "# # Example usage:\n",
    "# my_list = [1, 2, 3, ..., 200]  # Replace with your actual list of 200 numbers\n",
    "result = calculate_averages(episode_f1s)\n",
    "# print(result)\n",
    "\n",
    "sns.set()\n",
    "\n",
    "plt.plot(result)\n",
    "plt.ylabel('f1')\n",
    "plt.xlabel('episodes')\n",
    "plt.title(f'Training f1 of AC {num_episodes}episodes')\n",
    "\n",
    "reg = LinearRegression().fit(np.arange(len(result)).reshape(-1, 1), np.array(result).reshape(-1, 1))\n",
    "y_pred = reg.predict(np.arange(len(result)).reshape(-1, 1))\n",
    "plt.plot(y_pred)\n",
    "plt.show()"
   ]
  },
  {
   "cell_type": "code",
   "execution_count": 34,
   "metadata": {},
   "outputs": [
    {
     "data": {
      "text/plain": [
       "(0.2869007263922517, 0.484472049689441)"
      ]
     },
     "execution_count": 34,
     "metadata": {},
     "output_type": "execute_result"
    }
   ],
   "source": [
    "env.get_f1()"
   ]
  },
  {
   "cell_type": "markdown",
   "metadata": {},
   "source": [
    "### DNN classifier\n"
   ]
  },
  {
   "cell_type": "code",
   "execution_count": null,
   "metadata": {},
   "outputs": [],
   "source": [
    "# batch_size = 32\n",
    "# # ############\n",
    "\n",
    "# # Convert numpy arrays to PyTorch tensors\n",
    "\n",
    "# X_train_tensor = torch.tensor(X_resampled, dtype=torch.float32,requires_grad=True)\n",
    "# y_train_tensor = torch.tensor(y_resampled, dtype=torch.long)  # Use long for classification tasks\n",
    "\n",
    "# X_test_tensor = torch.tensor(X_test, dtype=torch.float32,requires_grad=True)\n",
    "# y_test_tensor = torch.tensor(y_test, dtype=torch.long)  # Use long for classification tasks\n",
    "\n",
    "# # Define a custom Dataset class\n",
    "# class BuildDataset():\n",
    "#     def __init__(self, features, labels):\n",
    "#         self.features = features\n",
    "#         self.labels = labels\n",
    "\n",
    "#     def __len__(self):\n",
    "#         return len(self.features)\n",
    "\n",
    "#     def __getitem__(self, idx):\n",
    "#         return self.features[idx], self.labels[idx]\n",
    "\n",
    "# # Create Dataset object\n",
    "# train_dataset = BuildDataset(X_train_tensor, y_train_tensor)\n",
    "# test_dataset = BuildDataset(X_test_tensor, y_test_tensor)\n",
    "\n",
    "# # ###########\n",
    "# trainloader = torch.utils.data.DataLoader(dataset=train_dataset, batch_size=batch_size,\n",
    "#                                           shuffle=True)\n",
    "\n",
    "# testloader = torch.utils.data.DataLoader(dataset=test_dataset, batch_size=batch_size,\n",
    "#                                          shuffle=False)\n",
    "\n",
    "# # define 2 NN classifiers\n",
    "# class NeuralNet(nn.Module):\n",
    "#     def __init__(self, input_size, hidden_size, output_size):\n",
    "#         super(NeuralNet, self).__init__()\n",
    "#         self.fc1 = nn.Linear(input_size, hidden_size)\n",
    "#         self.fc2 = nn.Linear(hidden_size, output_size)\n",
    "\n",
    "#     def forward(self, x):\n",
    "#         # print(f\"Input requires_grad: {x.requires_grad}\")  \n",
    "#         x = F.relu(self.fc1(x))\n",
    "#         # print(f\"After layer1 requires_grad: {x.requires_grad}\") \n",
    "#         proba = F.softmax(self.fc2(x), dim=1)\n",
    "#         # print(f\"After proba requires_grad: {proba.requires_grad}\")\n",
    "#         label = self.fc2(x)\n",
    "#         # print(f\"After label requires_grad: {label.requires_grad}\")\n",
    "#         return proba, label\n",
    "    \n",
    "#     def score(self, X, y):\n",
    "#         _, out = self.forward(X)\n",
    "#         out = out.detach().numpy()\n",
    "#         score_1 = accuracy_score(y_pred=out, y_true=y)\n",
    "#         return score_1\n",
    "\n",
    "\n",
    "# model1 = NeuralNet(input_size=100, hidden_size=128, output_size=20)\n",
    "# optimizer1 = optim.Adam(model1.parameters(), lr=0.001)\n",
    "# loss1 = nn.CrossEntropyLoss()\n",
    "\n",
    "\n"
   ]
  },
  {
   "cell_type": "code",
   "execution_count": null,
   "metadata": {},
   "outputs": [
    {
     "name": "stdout",
     "output_type": "stream",
     "text": [
      "[EPOCH 1,     2] loss: 1.500\n",
      "[EPOCH 2,     2] loss: 1.446\n",
      "[EPOCH 3,     2] loss: 1.393\n",
      "[EPOCH 4,     2] loss: 1.313\n",
      "[EPOCH 5,     2] loss: 1.228\n",
      "[EPOCH 6,     2] loss: 1.098\n",
      "[EPOCH 7,     2] loss: 0.986\n",
      "[EPOCH 8,     2] loss: 0.892\n",
      "[EPOCH 9,     2] loss: 0.800\n",
      "[EPOCH 10,     2] loss: 0.752\n",
      "[EPOCH 11,     2] loss: 0.693\n",
      "[EPOCH 12,     2] loss: 0.665\n",
      "[EPOCH 13,     2] loss: 0.632\n",
      "[EPOCH 14,     2] loss: 0.585\n",
      "[EPOCH 15,     2] loss: 0.530\n",
      "[EPOCH 16,     2] loss: 0.487\n",
      "[EPOCH 17,     2] loss: 0.422\n",
      "[EPOCH 18,     2] loss: 0.429\n",
      "[EPOCH 19,     2] loss: 0.369\n",
      "[EPOCH 20,     2] loss: 0.349\n",
      "[EPOCH 21,     2] loss: 0.343\n",
      "[EPOCH 22,     2] loss: 0.268\n",
      "[EPOCH 23,     2] loss: 0.298\n",
      "[EPOCH 24,     2] loss: 0.214\n",
      "[EPOCH 25,     2] loss: 0.227\n",
      "[EPOCH 26,     2] loss: 0.287\n",
      "[EPOCH 27,     2] loss: 0.233\n",
      "[EPOCH 28,     2] loss: 0.187\n",
      "[EPOCH 29,     2] loss: 0.209\n",
      "[EPOCH 30,     2] loss: 0.189\n",
      "[EPOCH 31,     2] loss: 0.233\n",
      "[EPOCH 32,     2] loss: 0.191\n",
      "[EPOCH 33,     2] loss: 0.190\n",
      "[EPOCH 34,     2] loss: 0.150\n",
      "[EPOCH 35,     2] loss: 0.158\n",
      "[EPOCH 36,     2] loss: 0.107\n",
      "[EPOCH 37,     2] loss: 0.108\n",
      "[EPOCH 38,     2] loss: 0.125\n",
      "[EPOCH 39,     2] loss: 0.112\n",
      "[EPOCH 40,     2] loss: 0.124\n",
      "[EPOCH 41,     2] loss: 0.131\n",
      "[EPOCH 42,     2] loss: 0.105\n",
      "[EPOCH 43,     2] loss: 0.101\n",
      "[EPOCH 44,     2] loss: 0.086\n",
      "[EPOCH 45,     2] loss: 0.113\n",
      "[EPOCH 46,     2] loss: 0.095\n",
      "[EPOCH 47,     2] loss: 0.083\n",
      "[EPOCH 48,     2] loss: 0.069\n",
      "[EPOCH 49,     2] loss: 0.085\n",
      "[EPOCH 50,     2] loss: 0.071\n",
      "[EPOCH 51,     2] loss: 0.076\n",
      "[EPOCH 52,     2] loss: 0.059\n",
      "[EPOCH 53,     2] loss: 0.053\n",
      "[EPOCH 54,     2] loss: 0.055\n",
      "[EPOCH 55,     2] loss: 0.059\n",
      "[EPOCH 56,     2] loss: 0.054\n",
      "[EPOCH 57,     2] loss: 0.052\n",
      "[EPOCH 58,     2] loss: 0.059\n",
      "[EPOCH 59,     2] loss: 0.052\n",
      "[EPOCH 60,     2] loss: 0.040\n",
      "[EPOCH 61,     2] loss: 0.037\n",
      "[EPOCH 62,     2] loss: 0.043\n",
      "[EPOCH 63,     2] loss: 0.044\n",
      "[EPOCH 64,     2] loss: 0.038\n",
      "[EPOCH 65,     2] loss: 0.035\n",
      "[EPOCH 66,     2] loss: 0.042\n",
      "[EPOCH 67,     2] loss: 0.036\n",
      "[EPOCH 68,     2] loss: 0.031\n",
      "[EPOCH 69,     2] loss: 0.042\n",
      "[EPOCH 70,     2] loss: 0.046\n",
      "[EPOCH 71,     2] loss: 0.034\n",
      "[EPOCH 72,     2] loss: 0.031\n",
      "[EPOCH 73,     2] loss: 0.030\n",
      "[EPOCH 74,     2] loss: 0.035\n",
      "[EPOCH 75,     2] loss: 0.025\n",
      "[EPOCH 76,     2] loss: 0.028\n",
      "[EPOCH 77,     2] loss: 0.027\n",
      "[EPOCH 78,     2] loss: 0.032\n",
      "[EPOCH 79,     2] loss: 0.024\n",
      "[EPOCH 80,     2] loss: 0.021\n",
      "[EPOCH 81,     2] loss: 0.020\n",
      "[EPOCH 82,     2] loss: 0.026\n",
      "[EPOCH 83,     2] loss: 0.019\n",
      "[EPOCH 84,     2] loss: 0.025\n",
      "[EPOCH 85,     2] loss: 0.020\n",
      "[EPOCH 86,     2] loss: 0.025\n",
      "[EPOCH 87,     2] loss: 0.022\n",
      "[EPOCH 88,     2] loss: 0.023\n",
      "[EPOCH 89,     2] loss: 0.017\n",
      "[EPOCH 90,     2] loss: 0.020\n",
      "[EPOCH 91,     2] loss: 0.013\n",
      "[EPOCH 92,     2] loss: 0.015\n",
      "[EPOCH 93,     2] loss: 0.015\n",
      "[EPOCH 94,     2] loss: 0.017\n",
      "[EPOCH 95,     2] loss: 0.016\n",
      "[EPOCH 96,     2] loss: 0.017\n",
      "[EPOCH 97,     2] loss: 0.016\n",
      "[EPOCH 98,     2] loss: 0.013\n",
      "[EPOCH 99,     2] loss: 0.014\n",
      "[EPOCH 100,     2] loss: 0.012\n",
      "[EPOCH 101,     2] loss: 0.014\n",
      "[EPOCH 102,     2] loss: 0.013\n",
      "[EPOCH 103,     2] loss: 0.013\n",
      "[EPOCH 104,     2] loss: 0.014\n",
      "[EPOCH 105,     2] loss: 0.010\n",
      "[EPOCH 106,     2] loss: 0.013\n",
      "[EPOCH 107,     2] loss: 0.015\n",
      "[EPOCH 108,     2] loss: 0.012\n",
      "[EPOCH 109,     2] loss: 0.014\n",
      "[EPOCH 110,     2] loss: 0.013\n",
      "[EPOCH 111,     2] loss: 0.014\n",
      "[EPOCH 112,     2] loss: 0.011\n",
      "[EPOCH 113,     2] loss: 0.010\n",
      "[EPOCH 114,     2] loss: 0.009\n",
      "[EPOCH 115,     2] loss: 0.007\n",
      "[EPOCH 116,     2] loss: 0.008\n",
      "[EPOCH 117,     2] loss: 0.008\n",
      "[EPOCH 118,     2] loss: 0.010\n",
      "[EPOCH 119,     2] loss: 0.010\n",
      "[EPOCH 120,     2] loss: 0.011\n",
      "[EPOCH 121,     2] loss: 0.008\n",
      "[EPOCH 122,     2] loss: 0.009\n",
      "[EPOCH 123,     2] loss: 0.010\n",
      "[EPOCH 124,     2] loss: 0.008\n",
      "[EPOCH 125,     2] loss: 0.008\n",
      "[EPOCH 126,     2] loss: 0.007\n",
      "[EPOCH 127,     2] loss: 0.008\n",
      "[EPOCH 128,     2] loss: 0.007\n",
      "[EPOCH 129,     2] loss: 0.011\n",
      "[EPOCH 130,     2] loss: 0.008\n",
      "[EPOCH 131,     2] loss: 0.006\n",
      "[EPOCH 132,     2] loss: 0.007\n",
      "[EPOCH 133,     2] loss: 0.005\n",
      "[EPOCH 134,     2] loss: 0.008\n",
      "[EPOCH 135,     2] loss: 0.008\n",
      "[EPOCH 136,     2] loss: 0.008\n",
      "[EPOCH 137,     2] loss: 0.008\n",
      "[EPOCH 138,     2] loss: 0.007\n",
      "[EPOCH 139,     2] loss: 0.006\n",
      "[EPOCH 140,     2] loss: 0.007\n",
      "[EPOCH 141,     2] loss: 0.006\n",
      "[EPOCH 142,     2] loss: 0.006\n",
      "[EPOCH 143,     2] loss: 0.005\n",
      "[EPOCH 144,     2] loss: 0.006\n",
      "[EPOCH 145,     2] loss: 0.006\n",
      "[EPOCH 146,     2] loss: 0.006\n",
      "[EPOCH 147,     2] loss: 0.006\n",
      "[EPOCH 148,     2] loss: 0.005\n",
      "[EPOCH 149,     2] loss: 0.006\n",
      "[EPOCH 150,     2] loss: 0.004\n",
      "[EPOCH 151,     2] loss: 0.005\n",
      "[EPOCH 152,     2] loss: 0.005\n",
      "[EPOCH 153,     2] loss: 0.005\n",
      "[EPOCH 154,     2] loss: 0.003\n",
      "[EPOCH 155,     2] loss: 0.005\n",
      "[EPOCH 156,     2] loss: 0.005\n",
      "[EPOCH 157,     2] loss: 0.006\n",
      "[EPOCH 158,     2] loss: 0.005\n",
      "[EPOCH 159,     2] loss: 0.006\n",
      "[EPOCH 160,     2] loss: 0.004\n",
      "[EPOCH 161,     2] loss: 0.005\n",
      "[EPOCH 162,     2] loss: 0.004\n",
      "[EPOCH 163,     2] loss: 0.003\n",
      "[EPOCH 164,     2] loss: 0.005\n",
      "[EPOCH 165,     2] loss: 0.005\n",
      "[EPOCH 166,     2] loss: 0.004\n",
      "[EPOCH 167,     2] loss: 0.004\n",
      "[EPOCH 168,     2] loss: 0.004\n",
      "[EPOCH 169,     2] loss: 0.003\n",
      "[EPOCH 170,     2] loss: 0.004\n",
      "[EPOCH 171,     2] loss: 0.003\n",
      "[EPOCH 172,     2] loss: 0.004\n",
      "[EPOCH 173,     2] loss: 0.004\n",
      "[EPOCH 174,     2] loss: 0.003\n",
      "[EPOCH 175,     2] loss: 0.003\n",
      "[EPOCH 176,     2] loss: 0.004\n",
      "[EPOCH 177,     2] loss: 0.004\n",
      "[EPOCH 178,     2] loss: 0.003\n",
      "[EPOCH 179,     2] loss: 0.004\n",
      "[EPOCH 180,     2] loss: 0.003\n",
      "[EPOCH 181,     2] loss: 0.003\n",
      "[EPOCH 182,     2] loss: 0.003\n",
      "[EPOCH 183,     2] loss: 0.003\n",
      "[EPOCH 184,     2] loss: 0.004\n",
      "[EPOCH 185,     2] loss: 0.003\n",
      "[EPOCH 186,     2] loss: 0.003\n",
      "[EPOCH 187,     2] loss: 0.003\n",
      "[EPOCH 188,     2] loss: 0.003\n",
      "[EPOCH 189,     2] loss: 0.003\n",
      "[EPOCH 190,     2] loss: 0.003\n",
      "[EPOCH 191,     2] loss: 0.003\n",
      "[EPOCH 192,     2] loss: 0.003\n",
      "[EPOCH 193,     2] loss: 0.003\n",
      "[EPOCH 194,     2] loss: 0.003\n",
      "[EPOCH 195,     2] loss: 0.003\n",
      "[EPOCH 196,     2] loss: 0.003\n",
      "[EPOCH 197,     2] loss: 0.003\n",
      "[EPOCH 198,     2] loss: 0.003\n",
      "[EPOCH 199,     2] loss: 0.002\n",
      "[EPOCH 200,     2] loss: 0.003\n",
      "Finished Training\n"
     ]
    }
   ],
   "source": [
    "# for epoch in range(200):  # loop over the dataset multiple times\n",
    "\n",
    "#     running_loss = 0.0\n",
    "#     for i, data in enumerate(trainloader, 0):\n",
    "#         # get the inputs; data is a list of [inputs, labels]\n",
    "#         inputs, labels = data\n",
    "\n",
    "#         optimizer1.zero_grad()\n",
    "\n",
    "\n",
    "#         # forward + backward + optimize\n",
    "#         probas, outputs = model1(inputs)\n",
    "#         loss = loss1(outputs, labels)\n",
    "#         loss.backward()\n",
    "#         optimizer1.step()\n",
    "\n",
    "#         # print statistics\n",
    "#         running_loss += loss.item()\n",
    "#         if i % 200 == 1:    # print every 2000 mini-batches\n",
    "#             print(f'[EPOCH {epoch + 1}, {i + 1:5d}] loss: {running_loss / 4:.3f}')\n",
    "\n",
    "# print('Finished Training')"
   ]
  },
  {
   "cell_type": "code",
   "execution_count": null,
   "metadata": {},
   "outputs": [
    {
     "name": "stdout",
     "output_type": "stream",
     "text": [
      "nn classifier F1 Macro: 0.33059516054327026 \n",
      "nn classifier F1 Micro: 0.4409937888198758\n"
     ]
    }
   ],
   "source": [
    "# # GET f1 score of the NN classifiers.\n",
    "# _, out_result = model1(X_test_tensor)\n",
    "\n",
    "# NN_f1_marco = f1_score(y_pred=torch.argmax(out_result, axis=1).detach().numpy(),y_true=y_test, average='macro')\n",
    "# NN_f1_mirco = f1_score(y_pred=torch.argmax(out_result, axis=1).detach().numpy(),y_true=y_test, average='micro')\n",
    "\n",
    "# print(f'nn classifier F1 Macro: {NN_f1_marco} \\nnn classifier F1 Micro: {NN_f1_mirco}')"
   ]
  },
  {
   "cell_type": "markdown",
   "metadata": {},
   "source": [
    "### SVM classifiers"
   ]
  },
  {
   "cell_type": "code",
   "execution_count": null,
   "metadata": {},
   "outputs": [
    {
     "name": "stdout",
     "output_type": "stream",
     "text": [
      "One-vs-All F1 Macro: 0.2973160173160173\n",
      "One-vs-All F1 Micro: 0.484472049689441\n"
     ]
    }
   ],
   "source": [
    "# # Initialize the SVM classifier with One-vs-All strategy\n",
    "\n",
    "# # knn = KNeighborsClassifier(n_neighbors=10, metric='cosine')\n",
    "# # svm = SVC(kernel='rbf', probability=True, tol=1e-4, max_iter=10000, C=1.0)\n",
    "\n",
    "\n",
    "# svm_ova = SVC(decision_function_shape='ovr')\n",
    "# svm_ova.fit(X=X_resampled, y=y_resampled)\n",
    "\n",
    "# # Predict and evaluate the One-vs-All model\n",
    "# y_pred_ova = svm_ova.predict(X_test)\n",
    "# print(\"One-vs-All F1 Macro:\", f1_score(y_true=y_test, y_pred=y_pred_ova, average='macro'))\n",
    "# print(\"One-vs-All F1 Micro:\", f1_score(y_true=y_test, y_pred=y_pred_ova, average='micro'))\n"
   ]
  },
  {
   "cell_type": "markdown",
   "metadata": {},
   "source": [
    "### KNN classifiers"
   ]
  },
  {
   "cell_type": "code",
   "execution_count": null,
   "metadata": {},
   "outputs": [],
   "source": [
    "# from sklearn.preprocessing import StandardScaler\n",
    "# scaler = StandardScaler()\n",
    "# X_train_scaled = scaler.fit_transform(X_resampled)\n",
    "# X_test_scaled = scaler.transform(X_test)"
   ]
  },
  {
   "cell_type": "code",
   "execution_count": null,
   "metadata": {},
   "outputs": [
    {
     "data": {
      "image/png": "[encoded data removed]",
      "text/plain": [
       "<Figure size 640x480 with 1 Axes>"
      ]
     },
     "metadata": {},
     "output_type": "display_data"
    },
    {
     "data": {
      "text/plain": [
       "'\\nk = 3 have the higest f1 score\\n\\n'"
      ]
     },
     "execution_count": 24,
     "metadata": {},
     "output_type": "execute_result"
    }
   ],
   "source": [
    "# F1 = {}\n",
    "# for k in range(3, 80, 2):\n",
    "#     knn = KNeighborsClassifier(n_neighbors=k)\n",
    "#     knn.fit(X_train_scaled, y_resampled)\n",
    "#     y_pred = knn.predict(X_test_scaled)\n",
    "#     F1[k] = f1_score(y_true=y_test, y_pred=y_pred, average='macro')\n",
    "    \n",
    "# # PLotting K v/s accuracy graph\n",
    "# plt.plot(range(3,80,2), F1.values())\n",
    "# plt.xlabel('K')\n",
    "# plt.ylabel('F1 Marco')\n",
    "# plt.show()\n",
    "\n",
    "\n",
    "# '''\n",
    "# k = 3 have the higest f1 score\n",
    "\n",
    "# '''"
   ]
  },
  {
   "cell_type": "code",
   "execution_count": null,
   "metadata": {},
   "outputs": [
    {
     "name": "stdout",
     "output_type": "stream",
     "text": [
      "0.2919254658385093\n",
      "              precision    recall  f1-score   support\n",
      "\n",
      "           0       0.73      0.28      0.40        69\n",
      "           1       0.27      0.31      0.29        29\n",
      "           2       0.10      0.25      0.14        16\n",
      "           3       0.29      0.33      0.31        30\n",
      "           4       0.19      0.29      0.23        17\n",
      "\n",
      "    accuracy                           0.29       161\n",
      "   macro avg       0.32      0.29      0.27       161\n",
      "weighted avg       0.45      0.29      0.32       161\n",
      "\n",
      "KNN F1 Macro: 0.27466235093256075\n",
      "KNN F1 Micro: 0.2919254658385093\n"
     ]
    }
   ],
   "source": [
    "# from sklearn.metrics import accuracy_score, classification_report\n",
    "# knn = KNeighborsClassifier(n_neighbors=3)\n",
    "# knn.fit(X_train_scaled, y_resampled)\n",
    "# y_pred = knn.predict(X_test_scaled)\n",
    "# print(accuracy_score(y_test, y_pred))\n",
    "# print(classification_report(y_test, y_pred))\n",
    "\n",
    "# print(\"KNN F1 Macro:\", f1_score(y_true=y_test, y_pred=y_pred, average='macro'))\n",
    "# print(\"KNN F1 Micro:\", f1_score(y_true=y_test, y_pred=y_pred, average='micro'))"
   ]
  },
  {
   "cell_type": "code",
   "execution_count": null,
   "metadata": {},
   "outputs": [],
   "source": [
    "\n"
   ]
  },
  {
   "cell_type": "code",
   "execution_count": null,
   "metadata": {},
   "outputs": [],
   "source": [
    "\n"
   ]
  }
 ],
 "metadata": {
  "kernelspec": {
   "display_name": "numpy1",
   "language": "python",
   "name": "python3"
  },
  "language_info": {
   "codemirror_mode": {
    "name": "ipython",
    "version": 3
   },
   "file_extension": ".py",
   "mimetype": "text/x-python",
   "name": "python",
   "nbconvert_exporter": "python",
   "pygments_lexer": "ipython3",
   "version": "3.12.2"
  }
 },
 "nbformat": 4,
 "nbformat_minor": 2
}
